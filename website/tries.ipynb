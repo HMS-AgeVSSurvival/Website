{
 "cells": [
  {
   "cell_type": "code",
   "execution_count": 122,
   "metadata": {},
   "outputs": [],
   "source": [
    "import pandas as pd\n",
    "import numpy as np \n",
    "\n",
    "import plotly.graph_objs as go\n",
    "\n",
    "from website.utils.graphs import add_custom_legend_axis\n",
    "from website import MAIN_CATEGORIES, CATEGORIES, ALGORITHMS, SCORES, FOLDS\n",
    "\n",
    "\n",
    "scores_data = pd.read_feather(f\"../data/scores.feather\").to_dict()\n",
    "targets = [\"all\"]\n",
    "examination_categories, laboratory_categories, questionnaire_categories = [\"Body__Measures\"], [\"all\"], [\"all\"]\n",
    "algorithms = [\"elastic_net\", \"light_gbm\"]\n",
    "metric = \"diff_c_index\"\n",
    "\n",
    "\n",
    "scores_full = pd.DataFrame(scores_data).set_index([\"main_category\", \"category\"])\n",
    "scores_full.columns = pd.MultiIndex.from_tuples(\n",
    "    list(map(eval, scores_full.columns.tolist())), names=[\"target\", \"algorithm\", \"fold\", \"metric\"]\n",
    ")\n",
    "\n",
    "categories_to_display = {\n",
    "    \"examination\": examination_categories,\n",
    "    \"laboratory\": laboratory_categories,\n",
    "    \"questionnaire\": questionnaire_categories,\n",
    "}\n",
    "\n",
    "indexes_to_take = []\n",
    "indexes_to_rename = {}\n",
    "\n",
    "for main_category in MAIN_CATEGORIES:\n",
    "    indexes_to_rename[main_category] = MAIN_CATEGORIES[main_category]\n",
    "    if categories_to_display[main_category] == [\"all\"]:\n",
    "        categories_to_display[main_category] = (\n",
    "            pd.Index(list(CATEGORIES[main_category].keys())).drop(\"all\").to_list()\n",
    "        )\n",
    "    for category in categories_to_display[main_category]:\n",
    "        indexes_to_rename[category] = CATEGORIES[main_category][category]\n",
    "        indexes_to_take.append([main_category, category])\n",
    "for algorithm in algorithms:\n",
    "    indexes_to_rename[algorithm] = ALGORITHMS[algorithm]\n",
    "\n",
    "scores = scores_full.loc[indexes_to_take, (targets, [\"numbers\", \"age_ranges\"] + algorithms)]\n",
    "scores.rename(index=indexes_to_rename, inplace=True)\n",
    "\n",
    "if targets != [\"age\"]:\n",
    "    scores.replace(-1, np.nan, inplace=True)"
   ]
  },
  {
   "cell_type": "code",
   "execution_count": 123,
   "metadata": {},
   "outputs": [
    {
     "data": {
      "application/vnd.plotly.v1+json": {
       "config": {
        "plotlyServerURL": "https://plot.ly"
       },
       "data": [
        {
         "customdata": [
          [
           "nan",
           "84160",
           "19",
           "2",
           "85",
           "Elastic Net"
          ],
          [
           "nan",
           "4735",
           "36",
           "12",
           "80",
           "Elastic Net"
          ],
          [
           "nan",
           "51199",
           "15",
           "6",
           "85",
           "Elastic Net"
          ],
          [
           "nan",
           "3152",
           "40",
           "3",
           "80",
           "Elastic Net"
          ],
          [
           "nan",
           "4979",
           "27",
           "6",
           "80",
           "Elastic Net"
          ],
          [
           "nan",
           "36480",
           "15",
           "6",
           "80",
           "Elastic Net"
          ],
          [
           "nan",
           "6815",
           "17",
           "18",
           "60",
           "Elastic Net"
          ],
          [
           "nan",
           "3227",
           "24",
           "1",
           "6",
           "Elastic Net"
          ],
          [
           "nan",
           "3890",
           "39",
           "12",
           "85",
           "Elastic Net"
          ],
          [
           "nan",
           "5333",
           "19",
           "3",
           "80",
           "Elastic Net"
          ],
          [
           "nan",
           "4986",
           "49",
           "6",
           "85",
           "Elastic Net"
          ],
          [
           "nan",
           "47437",
           "14",
           "1",
           "85",
           "Elastic Net"
          ],
          [
           "nan",
           "4806",
           "16",
           "6",
           "50",
           "Elastic Net"
          ],
          [
           "nan",
           "3507",
           "19",
           "3",
           "80",
           "Elastic Net"
          ],
          [
           "nan",
           "205",
           "20",
           "16",
           "69",
           "Elastic Net"
          ],
          [
           "nan",
           "1384",
           "15",
           "12",
           "85",
           "Elastic Net"
          ],
          [
           "nan",
           "544",
           "46",
           "16",
           "69",
           "Elastic Net"
          ],
          [
           "nan",
           "10324",
           "14",
           "19",
           "80",
           "Elastic Net"
          ],
          [
           "nan",
           "7109",
           "20",
           "40",
           "85",
           "Elastic Net"
          ],
          [
           "nan",
           "7056",
           "41",
           "12",
           "85",
           "Elastic Net"
          ],
          [
           "nan",
           "10403",
           "25",
           "12",
           "80",
           "Elastic Net"
          ]
         ],
         "error_y": {
          "array": [
           null,
           null,
           null,
           null,
           null,
           null,
           null,
           null,
           null,
           null,
           null,
           null,
           null,
           null,
           null,
           null,
           null,
           null,
           null,
           null,
           null
          ],
          "type": "data"
         },
         "hovertemplate": "%{x},<Br> score: %{y:.3f} +- %{customdata[0]:.3f}, %{customdata[1]} participants with %{customdata[2]} variables, age range %{customdata[3]} to %{customdata[4]} years old <extra>%{customdata[5]}</extra>",
         "name": "Elastic Net",
         "type": "bar",
         "x": [
          5,
          15,
          25,
          35,
          45,
          55,
          65,
          75,
          85,
          95,
          105,
          115,
          125,
          135,
          145,
          155,
          165,
          175,
          185,
          195,
          205
         ],
         "y": [
          null,
          null,
          null,
          null,
          null,
          null,
          null,
          null,
          null,
          null,
          null,
          null,
          null,
          null,
          null,
          null,
          null,
          null,
          null,
          null,
          null
         ]
        },
        {
         "customdata": [
          [
           "nan",
           "84160",
           "19",
           "2",
           "85",
           "Tree base algorithm"
          ],
          [
           "nan",
           "4735",
           "36",
           "12",
           "80",
           "Tree base algorithm"
          ],
          [
           "nan",
           "51199",
           "15",
           "6",
           "85",
           "Tree base algorithm"
          ],
          [
           "nan",
           "3152",
           "40",
           "3",
           "80",
           "Tree base algorithm"
          ],
          [
           "nan",
           "4979",
           "27",
           "6",
           "80",
           "Tree base algorithm"
          ],
          [
           "nan",
           "36480",
           "15",
           "6",
           "80",
           "Tree base algorithm"
          ],
          [
           "nan",
           "6815",
           "17",
           "18",
           "60",
           "Tree base algorithm"
          ],
          [
           "nan",
           "3227",
           "24",
           "1",
           "6",
           "Tree base algorithm"
          ],
          [
           "nan",
           "3890",
           "39",
           "12",
           "85",
           "Tree base algorithm"
          ],
          [
           "nan",
           "5333",
           "19",
           "3",
           "80",
           "Tree base algorithm"
          ],
          [
           "nan",
           "4986",
           "49",
           "6",
           "85",
           "Tree base algorithm"
          ],
          [
           "nan",
           "47437",
           "14",
           "1",
           "85",
           "Tree base algorithm"
          ],
          [
           "nan",
           "4806",
           "16",
           "6",
           "50",
           "Tree base algorithm"
          ],
          [
           "nan",
           "3507",
           "19",
           "3",
           "80",
           "Tree base algorithm"
          ],
          [
           "nan",
           "205",
           "20",
           "16",
           "69",
           "Tree base algorithm"
          ],
          [
           "nan",
           "1384",
           "15",
           "12",
           "85",
           "Tree base algorithm"
          ],
          [
           "nan",
           "544",
           "46",
           "16",
           "69",
           "Tree base algorithm"
          ],
          [
           "nan",
           "10324",
           "14",
           "19",
           "80",
           "Tree base algorithm"
          ],
          [
           "nan",
           "7109",
           "20",
           "40",
           "85",
           "Tree base algorithm"
          ],
          [
           "nan",
           "7056",
           "41",
           "12",
           "85",
           "Tree base algorithm"
          ],
          [
           "nan",
           "10403",
           "25",
           "12",
           "80",
           "Tree base algorithm"
          ]
         ],
         "error_y": {
          "array": [
           null,
           null,
           null,
           null,
           null,
           null,
           null,
           null,
           null,
           null,
           null,
           null,
           null,
           null,
           null,
           null,
           null,
           null,
           null,
           null,
           null
          ],
          "type": "data"
         },
         "hovertemplate": "%{x},<Br> score: %{y:.3f} +- %{customdata[0]:.3f}, %{customdata[1]} participants with %{customdata[2]} variables, age range %{customdata[3]} to %{customdata[4]} years old <extra>%{customdata[5]}</extra>",
         "name": "Tree base algorithm",
         "type": "bar",
         "x": [
          5,
          15,
          25,
          35,
          45,
          55,
          65,
          75,
          85,
          95,
          105,
          115,
          125,
          135,
          145,
          155,
          165,
          175,
          185,
          195,
          205
         ],
         "y": [
          null,
          null,
          null,
          null,
          null,
          null,
          null,
          null,
          null,
          null,
          null,
          null,
          null,
          null,
          null,
          null,
          null,
          null,
          null,
          null,
          null
         ]
        }
       ],
       "layout": {
        "annotations": [
         {
          "font": {
           "size": 15
          },
          "showarrow": false,
          "text": "Examination",
          "textangle": 90,
          "x": 5,
          "xref": "x",
          "y": -0.75,
          "yref": "y"
         },
         {
          "font": {
           "size": 14
          },
          "showarrow": false,
          "text": "Body Measures",
          "textangle": 90,
          "x": 5,
          "xref": "x",
          "y": null,
          "yref": "y"
         },
         {
          "font": {
           "size": 15
          },
          "showarrow": false,
          "text": "Laboratory",
          "textangle": 90,
          "x": 60,
          "xref": "x",
          "y": -0.75,
          "yref": "y"
         },
         {
          "font": {
           "size": 14
          },
          "showarrow": false,
          "text": "Autoantibodies - Immunofl...",
          "textangle": 90,
          "x": 15,
          "xref": "x",
          "y": null,
          "yref": "y"
         },
         {
          "font": {
           "size": 14
          },
          "showarrow": false,
          "text": "Cholesterol - Total",
          "textangle": 90,
          "x": 25,
          "xref": "x",
          "y": null,
          "yref": "y"
         },
         {
          "font": {
           "size": 14
          },
          "showarrow": false,
          "text": "Fatty Acids - Serum",
          "textangle": 90,
          "x": 35,
          "xref": "x",
          "y": null,
          "yref": "y"
         },
         {
          "font": {
           "size": 14
          },
          "showarrow": false,
          "text": "Flame Retardant Metabolit...",
          "textangle": 90,
          "x": 45,
          "xref": "x",
          "y": null,
          "yref": "y"
         },
         {
          "font": {
           "size": 14
          },
          "showarrow": false,
          "text": "Hepatitis E : IgG & IgM A...",
          "textangle": 90,
          "x": 55,
          "xref": "x",
          "y": null,
          "yref": "y"
         },
         {
          "font": {
           "size": 14
          },
          "showarrow": false,
          "text": "Human Papillomavirus (HPV...",
          "textangle": 90,
          "x": 65,
          "xref": "x",
          "y": null,
          "yref": "y"
         },
         {
          "font": {
           "size": 14
          },
          "showarrow": false,
          "text": "Lead - Dust",
          "textangle": 90,
          "x": 75,
          "xref": "x",
          "y": null,
          "yref": "y"
         },
         {
          "font": {
           "size": 14
          },
          "showarrow": false,
          "text": "Non-dioxin-like Polychlor...",
          "textangle": 90,
          "x": 85,
          "xref": "x",
          "y": null,
          "yref": "y"
         },
         {
          "font": {
           "size": 14
          },
          "showarrow": false,
          "text": "Personal Care and Consume...",
          "textangle": 90,
          "x": 95,
          "xref": "x",
          "y": null,
          "yref": "y"
         },
         {
          "font": {
           "size": 14
          },
          "showarrow": false,
          "text": "Pesticides - Current Use ...",
          "textangle": 90,
          "x": 105,
          "xref": "x",
          "y": null,
          "yref": "y"
         },
         {
          "font": {
           "size": 15
          },
          "showarrow": false,
          "text": "Questionnaire",
          "textangle": 90,
          "x": 160,
          "xref": "x",
          "y": -0.75,
          "yref": "y"
         },
         {
          "font": {
           "size": 14
          },
          "showarrow": false,
          "text": "Creatine Kinase",
          "textangle": 90,
          "x": 115,
          "xref": "x",
          "y": null,
          "yref": "y"
         },
         {
          "font": {
           "size": 14
          },
          "showarrow": false,
          "text": "Early Childhood",
          "textangle": 90,
          "x": 125,
          "xref": "x",
          "y": null,
          "yref": "y"
         },
         {
          "font": {
           "size": 14
          },
          "showarrow": false,
          "text": "Hepatitis",
          "textangle": 90,
          "x": 135,
          "xref": "x",
          "y": null,
          "yref": "y"
         },
         {
          "font": {
           "size": 14
          },
          "showarrow": false,
          "text": "Mental Health - Panic Dis...",
          "textangle": 90,
          "x": 145,
          "xref": "x",
          "y": null,
          "yref": "y"
         },
         {
          "font": {
           "size": 14
          },
          "showarrow": false,
          "text": "Osteoporosis",
          "textangle": 90,
          "x": 155,
          "xref": "x",
          "y": null,
          "yref": "y"
         },
         {
          "font": {
           "size": 14
          },
          "showarrow": false,
          "text": "Prostate Conditions",
          "textangle": 90,
          "x": 165,
          "xref": "x",
          "y": null,
          "yref": "y"
         },
         {
          "font": {
           "size": 14
          },
          "showarrow": false,
          "text": "Prostate Specific Antigen...",
          "textangle": 90,
          "x": 175,
          "xref": "x",
          "y": null,
          "yref": "y"
         },
         {
          "font": {
           "size": 14
          },
          "showarrow": false,
          "text": "Smoking - Cigarette/Tobac...",
          "textangle": 90,
          "x": 185,
          "xref": "x",
          "y": null,
          "yref": "y"
         },
         {
          "font": {
           "size": 14
          },
          "showarrow": false,
          "text": "Taste & Smell",
          "textangle": 90,
          "x": 195,
          "xref": "x",
          "y": null,
          "yref": "y"
         },
         {
          "font": {
           "size": 14
          },
          "showarrow": false,
          "text": "Volatile Toxicant (Subsam...",
          "textangle": 90,
          "x": 205,
          "xref": "x",
          "y": null,
          "yref": "y"
         }
        ],
        "height": 800,
        "legend": {
         "font": {
          "size": 30
         },
         "orientation": "h",
         "yanchor": "bottom"
        },
        "margin": {
         "b": 0,
         "l": 0,
         "r": 0,
         "t": 0
        },
        "shapes": [
         {
          "line": {
           "color": "Black",
           "width": 0.5
          },
          "type": "line",
          "x0": 0,
          "x1": 0,
          "xref": "x",
          "y0": -0.5,
          "y1": -1,
          "yref": "y"
         },
         {
          "line": {
           "color": "Black",
           "width": 0.5
          },
          "type": "line",
          "x0": 0,
          "x1": 0,
          "xref": "x",
          "y0": null,
          "y1": -0.5,
          "yref": "y"
         },
         {
          "line": {
           "color": "Black",
           "width": 0.5
          },
          "type": "line",
          "x0": 10,
          "x1": 10,
          "xref": "x",
          "y0": -0.5,
          "y1": -1,
          "yref": "y"
         },
         {
          "line": {
           "color": "Black",
           "width": 0.5
          },
          "type": "line",
          "x0": 10,
          "x1": 10,
          "xref": "x",
          "y0": null,
          "y1": -0.5,
          "yref": "y"
         },
         {
          "line": {
           "color": "Black",
           "width": 0.5
          },
          "type": "line",
          "x0": 20,
          "x1": 20,
          "xref": "x",
          "y0": null,
          "y1": -0.5,
          "yref": "y"
         },
         {
          "line": {
           "color": "Black",
           "width": 0.5
          },
          "type": "line",
          "x0": 30,
          "x1": 30,
          "xref": "x",
          "y0": null,
          "y1": -0.5,
          "yref": "y"
         },
         {
          "line": {
           "color": "Black",
           "width": 0.5
          },
          "type": "line",
          "x0": 40,
          "x1": 40,
          "xref": "x",
          "y0": null,
          "y1": -0.5,
          "yref": "y"
         },
         {
          "line": {
           "color": "Black",
           "width": 0.5
          },
          "type": "line",
          "x0": 50,
          "x1": 50,
          "xref": "x",
          "y0": null,
          "y1": -0.5,
          "yref": "y"
         },
         {
          "line": {
           "color": "Black",
           "width": 0.5
          },
          "type": "line",
          "x0": 60,
          "x1": 60,
          "xref": "x",
          "y0": null,
          "y1": -0.5,
          "yref": "y"
         },
         {
          "line": {
           "color": "Black",
           "width": 0.5
          },
          "type": "line",
          "x0": 70,
          "x1": 70,
          "xref": "x",
          "y0": null,
          "y1": -0.5,
          "yref": "y"
         },
         {
          "line": {
           "color": "Black",
           "width": 0.5
          },
          "type": "line",
          "x0": 80,
          "x1": 80,
          "xref": "x",
          "y0": null,
          "y1": -0.5,
          "yref": "y"
         },
         {
          "line": {
           "color": "Black",
           "width": 0.5
          },
          "type": "line",
          "x0": 90,
          "x1": 90,
          "xref": "x",
          "y0": null,
          "y1": -0.5,
          "yref": "y"
         },
         {
          "line": {
           "color": "Black",
           "width": 0.5
          },
          "type": "line",
          "x0": 100,
          "x1": 100,
          "xref": "x",
          "y0": null,
          "y1": -0.5,
          "yref": "y"
         },
         {
          "line": {
           "color": "Black",
           "width": 0.5
          },
          "type": "line",
          "x0": 110,
          "x1": 110,
          "xref": "x",
          "y0": -0.5,
          "y1": -1,
          "yref": "y"
         },
         {
          "line": {
           "color": "Black",
           "width": 0.5
          },
          "type": "line",
          "x0": 110,
          "x1": 110,
          "xref": "x",
          "y0": null,
          "y1": -0.5,
          "yref": "y"
         },
         {
          "line": {
           "color": "Black",
           "width": 0.5
          },
          "type": "line",
          "x0": 120,
          "x1": 120,
          "xref": "x",
          "y0": null,
          "y1": -0.5,
          "yref": "y"
         },
         {
          "line": {
           "color": "Black",
           "width": 0.5
          },
          "type": "line",
          "x0": 130,
          "x1": 130,
          "xref": "x",
          "y0": null,
          "y1": -0.5,
          "yref": "y"
         },
         {
          "line": {
           "color": "Black",
           "width": 0.5
          },
          "type": "line",
          "x0": 140,
          "x1": 140,
          "xref": "x",
          "y0": null,
          "y1": -0.5,
          "yref": "y"
         },
         {
          "line": {
           "color": "Black",
           "width": 0.5
          },
          "type": "line",
          "x0": 150,
          "x1": 150,
          "xref": "x",
          "y0": null,
          "y1": -0.5,
          "yref": "y"
         },
         {
          "line": {
           "color": "Black",
           "width": 0.5
          },
          "type": "line",
          "x0": 160,
          "x1": 160,
          "xref": "x",
          "y0": null,
          "y1": -0.5,
          "yref": "y"
         },
         {
          "line": {
           "color": "Black",
           "width": 0.5
          },
          "type": "line",
          "x0": 170,
          "x1": 170,
          "xref": "x",
          "y0": null,
          "y1": -0.5,
          "yref": "y"
         },
         {
          "line": {
           "color": "Black",
           "width": 0.5
          },
          "type": "line",
          "x0": 180,
          "x1": 180,
          "xref": "x",
          "y0": null,
          "y1": -0.5,
          "yref": "y"
         },
         {
          "line": {
           "color": "Black",
           "width": 0.5
          },
          "type": "line",
          "x0": 190,
          "x1": 190,
          "xref": "x",
          "y0": null,
          "y1": -0.5,
          "yref": "y"
         },
         {
          "line": {
           "color": "Black",
           "width": 0.5
          },
          "type": "line",
          "x0": 200,
          "x1": 200,
          "xref": "x",
          "y0": null,
          "y1": -0.5,
          "yref": "y"
         },
         {
          "line": {
           "color": "Black",
           "width": 0.5
          },
          "type": "line",
          "x0": 210,
          "x1": 210,
          "xref": "x",
          "y0": null,
          "y1": -1,
          "yref": "y"
         }
        ],
        "template": {
         "data": {
          "bar": [
           {
            "error_x": {
             "color": "#2a3f5f"
            },
            "error_y": {
             "color": "#2a3f5f"
            },
            "marker": {
             "line": {
              "color": "#E5ECF6",
              "width": 0.5
             },
             "pattern": {
              "fillmode": "overlay",
              "size": 10,
              "solidity": 0.2
             }
            },
            "type": "bar"
           }
          ],
          "barpolar": [
           {
            "marker": {
             "line": {
              "color": "#E5ECF6",
              "width": 0.5
             },
             "pattern": {
              "fillmode": "overlay",
              "size": 10,
              "solidity": 0.2
             }
            },
            "type": "barpolar"
           }
          ],
          "carpet": [
           {
            "aaxis": {
             "endlinecolor": "#2a3f5f",
             "gridcolor": "white",
             "linecolor": "white",
             "minorgridcolor": "white",
             "startlinecolor": "#2a3f5f"
            },
            "baxis": {
             "endlinecolor": "#2a3f5f",
             "gridcolor": "white",
             "linecolor": "white",
             "minorgridcolor": "white",
             "startlinecolor": "#2a3f5f"
            },
            "type": "carpet"
           }
          ],
          "choropleth": [
           {
            "colorbar": {
             "outlinewidth": 0,
             "ticks": ""
            },
            "type": "choropleth"
           }
          ],
          "contour": [
           {
            "colorbar": {
             "outlinewidth": 0,
             "ticks": ""
            },
            "colorscale": [
             [
              0,
              "#0d0887"
             ],
             [
              0.1111111111111111,
              "#46039f"
             ],
             [
              0.2222222222222222,
              "#7201a8"
             ],
             [
              0.3333333333333333,
              "#9c179e"
             ],
             [
              0.4444444444444444,
              "#bd3786"
             ],
             [
              0.5555555555555556,
              "#d8576b"
             ],
             [
              0.6666666666666666,
              "#ed7953"
             ],
             [
              0.7777777777777778,
              "#fb9f3a"
             ],
             [
              0.8888888888888888,
              "#fdca26"
             ],
             [
              1,
              "#f0f921"
             ]
            ],
            "type": "contour"
           }
          ],
          "contourcarpet": [
           {
            "colorbar": {
             "outlinewidth": 0,
             "ticks": ""
            },
            "type": "contourcarpet"
           }
          ],
          "heatmap": [
           {
            "colorbar": {
             "outlinewidth": 0,
             "ticks": ""
            },
            "colorscale": [
             [
              0,
              "#0d0887"
             ],
             [
              0.1111111111111111,
              "#46039f"
             ],
             [
              0.2222222222222222,
              "#7201a8"
             ],
             [
              0.3333333333333333,
              "#9c179e"
             ],
             [
              0.4444444444444444,
              "#bd3786"
             ],
             [
              0.5555555555555556,
              "#d8576b"
             ],
             [
              0.6666666666666666,
              "#ed7953"
             ],
             [
              0.7777777777777778,
              "#fb9f3a"
             ],
             [
              0.8888888888888888,
              "#fdca26"
             ],
             [
              1,
              "#f0f921"
             ]
            ],
            "type": "heatmap"
           }
          ],
          "heatmapgl": [
           {
            "colorbar": {
             "outlinewidth": 0,
             "ticks": ""
            },
            "colorscale": [
             [
              0,
              "#0d0887"
             ],
             [
              0.1111111111111111,
              "#46039f"
             ],
             [
              0.2222222222222222,
              "#7201a8"
             ],
             [
              0.3333333333333333,
              "#9c179e"
             ],
             [
              0.4444444444444444,
              "#bd3786"
             ],
             [
              0.5555555555555556,
              "#d8576b"
             ],
             [
              0.6666666666666666,
              "#ed7953"
             ],
             [
              0.7777777777777778,
              "#fb9f3a"
             ],
             [
              0.8888888888888888,
              "#fdca26"
             ],
             [
              1,
              "#f0f921"
             ]
            ],
            "type": "heatmapgl"
           }
          ],
          "histogram": [
           {
            "marker": {
             "pattern": {
              "fillmode": "overlay",
              "size": 10,
              "solidity": 0.2
             }
            },
            "type": "histogram"
           }
          ],
          "histogram2d": [
           {
            "colorbar": {
             "outlinewidth": 0,
             "ticks": ""
            },
            "colorscale": [
             [
              0,
              "#0d0887"
             ],
             [
              0.1111111111111111,
              "#46039f"
             ],
             [
              0.2222222222222222,
              "#7201a8"
             ],
             [
              0.3333333333333333,
              "#9c179e"
             ],
             [
              0.4444444444444444,
              "#bd3786"
             ],
             [
              0.5555555555555556,
              "#d8576b"
             ],
             [
              0.6666666666666666,
              "#ed7953"
             ],
             [
              0.7777777777777778,
              "#fb9f3a"
             ],
             [
              0.8888888888888888,
              "#fdca26"
             ],
             [
              1,
              "#f0f921"
             ]
            ],
            "type": "histogram2d"
           }
          ],
          "histogram2dcontour": [
           {
            "colorbar": {
             "outlinewidth": 0,
             "ticks": ""
            },
            "colorscale": [
             [
              0,
              "#0d0887"
             ],
             [
              0.1111111111111111,
              "#46039f"
             ],
             [
              0.2222222222222222,
              "#7201a8"
             ],
             [
              0.3333333333333333,
              "#9c179e"
             ],
             [
              0.4444444444444444,
              "#bd3786"
             ],
             [
              0.5555555555555556,
              "#d8576b"
             ],
             [
              0.6666666666666666,
              "#ed7953"
             ],
             [
              0.7777777777777778,
              "#fb9f3a"
             ],
             [
              0.8888888888888888,
              "#fdca26"
             ],
             [
              1,
              "#f0f921"
             ]
            ],
            "type": "histogram2dcontour"
           }
          ],
          "mesh3d": [
           {
            "colorbar": {
             "outlinewidth": 0,
             "ticks": ""
            },
            "type": "mesh3d"
           }
          ],
          "parcoords": [
           {
            "line": {
             "colorbar": {
              "outlinewidth": 0,
              "ticks": ""
             }
            },
            "type": "parcoords"
           }
          ],
          "pie": [
           {
            "automargin": true,
            "type": "pie"
           }
          ],
          "scatter": [
           {
            "marker": {
             "colorbar": {
              "outlinewidth": 0,
              "ticks": ""
             }
            },
            "type": "scatter"
           }
          ],
          "scatter3d": [
           {
            "line": {
             "colorbar": {
              "outlinewidth": 0,
              "ticks": ""
             }
            },
            "marker": {
             "colorbar": {
              "outlinewidth": 0,
              "ticks": ""
             }
            },
            "type": "scatter3d"
           }
          ],
          "scattercarpet": [
           {
            "marker": {
             "colorbar": {
              "outlinewidth": 0,
              "ticks": ""
             }
            },
            "type": "scattercarpet"
           }
          ],
          "scattergeo": [
           {
            "marker": {
             "colorbar": {
              "outlinewidth": 0,
              "ticks": ""
             }
            },
            "type": "scattergeo"
           }
          ],
          "scattergl": [
           {
            "marker": {
             "colorbar": {
              "outlinewidth": 0,
              "ticks": ""
             }
            },
            "type": "scattergl"
           }
          ],
          "scattermapbox": [
           {
            "marker": {
             "colorbar": {
              "outlinewidth": 0,
              "ticks": ""
             }
            },
            "type": "scattermapbox"
           }
          ],
          "scatterpolar": [
           {
            "marker": {
             "colorbar": {
              "outlinewidth": 0,
              "ticks": ""
             }
            },
            "type": "scatterpolar"
           }
          ],
          "scatterpolargl": [
           {
            "marker": {
             "colorbar": {
              "outlinewidth": 0,
              "ticks": ""
             }
            },
            "type": "scatterpolargl"
           }
          ],
          "scatterternary": [
           {
            "marker": {
             "colorbar": {
              "outlinewidth": 0,
              "ticks": ""
             }
            },
            "type": "scatterternary"
           }
          ],
          "surface": [
           {
            "colorbar": {
             "outlinewidth": 0,
             "ticks": ""
            },
            "colorscale": [
             [
              0,
              "#0d0887"
             ],
             [
              0.1111111111111111,
              "#46039f"
             ],
             [
              0.2222222222222222,
              "#7201a8"
             ],
             [
              0.3333333333333333,
              "#9c179e"
             ],
             [
              0.4444444444444444,
              "#bd3786"
             ],
             [
              0.5555555555555556,
              "#d8576b"
             ],
             [
              0.6666666666666666,
              "#ed7953"
             ],
             [
              0.7777777777777778,
              "#fb9f3a"
             ],
             [
              0.8888888888888888,
              "#fdca26"
             ],
             [
              1,
              "#f0f921"
             ]
            ],
            "type": "surface"
           }
          ],
          "table": [
           {
            "cells": {
             "fill": {
              "color": "#EBF0F8"
             },
             "line": {
              "color": "white"
             }
            },
            "header": {
             "fill": {
              "color": "#C8D4E3"
             },
             "line": {
              "color": "white"
             }
            },
            "type": "table"
           }
          ]
         },
         "layout": {
          "annotationdefaults": {
           "arrowcolor": "#2a3f5f",
           "arrowhead": 0,
           "arrowwidth": 1
          },
          "autotypenumbers": "strict",
          "coloraxis": {
           "colorbar": {
            "outlinewidth": 0,
            "ticks": ""
           }
          },
          "colorscale": {
           "diverging": [
            [
             0,
             "#8e0152"
            ],
            [
             0.1,
             "#c51b7d"
            ],
            [
             0.2,
             "#de77ae"
            ],
            [
             0.3,
             "#f1b6da"
            ],
            [
             0.4,
             "#fde0ef"
            ],
            [
             0.5,
             "#f7f7f7"
            ],
            [
             0.6,
             "#e6f5d0"
            ],
            [
             0.7,
             "#b8e186"
            ],
            [
             0.8,
             "#7fbc41"
            ],
            [
             0.9,
             "#4d9221"
            ],
            [
             1,
             "#276419"
            ]
           ],
           "sequential": [
            [
             0,
             "#0d0887"
            ],
            [
             0.1111111111111111,
             "#46039f"
            ],
            [
             0.2222222222222222,
             "#7201a8"
            ],
            [
             0.3333333333333333,
             "#9c179e"
            ],
            [
             0.4444444444444444,
             "#bd3786"
            ],
            [
             0.5555555555555556,
             "#d8576b"
            ],
            [
             0.6666666666666666,
             "#ed7953"
            ],
            [
             0.7777777777777778,
             "#fb9f3a"
            ],
            [
             0.8888888888888888,
             "#fdca26"
            ],
            [
             1,
             "#f0f921"
            ]
           ],
           "sequentialminus": [
            [
             0,
             "#0d0887"
            ],
            [
             0.1111111111111111,
             "#46039f"
            ],
            [
             0.2222222222222222,
             "#7201a8"
            ],
            [
             0.3333333333333333,
             "#9c179e"
            ],
            [
             0.4444444444444444,
             "#bd3786"
            ],
            [
             0.5555555555555556,
             "#d8576b"
            ],
            [
             0.6666666666666666,
             "#ed7953"
            ],
            [
             0.7777777777777778,
             "#fb9f3a"
            ],
            [
             0.8888888888888888,
             "#fdca26"
            ],
            [
             1,
             "#f0f921"
            ]
           ]
          },
          "colorway": [
           "#636efa",
           "#EF553B",
           "#00cc96",
           "#ab63fa",
           "#FFA15A",
           "#19d3f3",
           "#FF6692",
           "#B6E880",
           "#FF97FF",
           "#FECB52"
          ],
          "font": {
           "color": "#2a3f5f"
          },
          "geo": {
           "bgcolor": "white",
           "lakecolor": "white",
           "landcolor": "#E5ECF6",
           "showlakes": true,
           "showland": true,
           "subunitcolor": "white"
          },
          "hoverlabel": {
           "align": "left"
          },
          "hovermode": "closest",
          "mapbox": {
           "style": "light"
          },
          "paper_bgcolor": "white",
          "plot_bgcolor": "#E5ECF6",
          "polar": {
           "angularaxis": {
            "gridcolor": "white",
            "linecolor": "white",
            "ticks": ""
           },
           "bgcolor": "#E5ECF6",
           "radialaxis": {
            "gridcolor": "white",
            "linecolor": "white",
            "ticks": ""
           }
          },
          "scene": {
           "xaxis": {
            "backgroundcolor": "#E5ECF6",
            "gridcolor": "white",
            "gridwidth": 2,
            "linecolor": "white",
            "showbackground": true,
            "ticks": "",
            "zerolinecolor": "white"
           },
           "yaxis": {
            "backgroundcolor": "#E5ECF6",
            "gridcolor": "white",
            "gridwidth": 2,
            "linecolor": "white",
            "showbackground": true,
            "ticks": "",
            "zerolinecolor": "white"
           },
           "zaxis": {
            "backgroundcolor": "#E5ECF6",
            "gridcolor": "white",
            "gridwidth": 2,
            "linecolor": "white",
            "showbackground": true,
            "ticks": "",
            "zerolinecolor": "white"
           }
          },
          "shapedefaults": {
           "line": {
            "color": "#2a3f5f"
           }
          },
          "ternary": {
           "aaxis": {
            "gridcolor": "white",
            "linecolor": "white",
            "ticks": ""
           },
           "baxis": {
            "gridcolor": "white",
            "linecolor": "white",
            "ticks": ""
           },
           "bgcolor": "#E5ECF6",
           "caxis": {
            "gridcolor": "white",
            "linecolor": "white",
            "ticks": ""
           }
          },
          "title": {
           "x": 0.05
          },
          "xaxis": {
           "automargin": true,
           "gridcolor": "white",
           "linecolor": "white",
           "ticks": "",
           "title": {
            "standoff": 15
           },
           "zerolinecolor": "white",
           "zerolinewidth": 2
          },
          "yaxis": {
           "automargin": true,
           "gridcolor": "white",
           "linecolor": "white",
           "ticks": "",
           "title": {
            "standoff": 15
           },
           "zerolinecolor": "white",
           "zerolinewidth": 2
          }
         }
        },
        "xaxis": {
         "showgrid": false,
         "showticklabels": false,
         "ticktext": [
          "Examination - Body Measures",
          "Laboratory - Autoantibodies - Immunofluorescence & Immunoprecipitation Analyses (Surplus)",
          "Laboratory - Cholesterol - Total",
          "Laboratory - Fatty Acids - Serum",
          "Laboratory - Flame Retardant Metabolites - Urine (Surplus)",
          "Laboratory - Hepatitis E : IgG & IgM Antibodies",
          "Laboratory - Human Papillomavirus (HPV) - 6, 11, 16 & 18 Antibody - Serum: 4-plex CLIA",
          "Laboratory - Lead - Dust",
          "Laboratory - Non-dioxin-like Polychlorinated Biphenyls",
          "Laboratory - Personal Care and Consumer Product Chemicals and Metabolites",
          "Laboratory - Pesticides - Current Use - Urine (Formerly Priority Pesticides, Non-persistent Pesticide Metabolites)",
          "Questionnaire - Creatine Kinase",
          "Questionnaire - Early Childhood",
          "Questionnaire - Hepatitis",
          "Questionnaire - Mental Health - Panic Disorder",
          "Questionnaire - Osteoporosis",
          "Questionnaire - Prostate Conditions",
          "Questionnaire - Prostate Specific Antigen Follow-up",
          "Questionnaire - Smoking - Cigarette/Tobacco Use - Adult",
          "Questionnaire - Taste & Smell",
          "Questionnaire - Volatile Toxicant (Subsample)"
         ],
         "tickvals": [
          5,
          15,
          25,
          35,
          45,
          55,
          65,
          75,
          85,
          95,
          105,
          115,
          125,
          135,
          145,
          155,
          165,
          175,
          185,
          195,
          205
         ],
         "zeroline": false
        },
        "yaxis": {
         "dtick": 0.1,
         "showgrid": false,
         "showticklabels": true,
         "tickfont": {
          "size": 20
         },
         "title": {
          "font": {
           "size": 45
          },
          "text": "Difference C-index"
         },
         "zeroline": false
        }
       }
      },
      "text/html": "<div>                            <div id=\"4af82a56-70e7-445b-85cb-a86cb78bc68e\" class=\"plotly-graph-div\" style=\"height:800px; width:100%;\"></div>            <script type=\"text/javascript\">                require([\"plotly\"], function(Plotly) {                    window.PLOTLYENV=window.PLOTLYENV || {};                                    if (document.getElementById(\"4af82a56-70e7-445b-85cb-a86cb78bc68e\")) {                    Plotly.newPlot(                        \"4af82a56-70e7-445b-85cb-a86cb78bc68e\",                        [{\"customdata\":[[\"nan\",\"84160\",\"19\",\"2\",\"85\",\"Elastic Net\"],[\"nan\",\"4735\",\"36\",\"12\",\"80\",\"Elastic Net\"],[\"nan\",\"51199\",\"15\",\"6\",\"85\",\"Elastic Net\"],[\"nan\",\"3152\",\"40\",\"3\",\"80\",\"Elastic Net\"],[\"nan\",\"4979\",\"27\",\"6\",\"80\",\"Elastic Net\"],[\"nan\",\"36480\",\"15\",\"6\",\"80\",\"Elastic Net\"],[\"nan\",\"6815\",\"17\",\"18\",\"60\",\"Elastic Net\"],[\"nan\",\"3227\",\"24\",\"1\",\"6\",\"Elastic Net\"],[\"nan\",\"3890\",\"39\",\"12\",\"85\",\"Elastic Net\"],[\"nan\",\"5333\",\"19\",\"3\",\"80\",\"Elastic Net\"],[\"nan\",\"4986\",\"49\",\"6\",\"85\",\"Elastic Net\"],[\"nan\",\"47437\",\"14\",\"1\",\"85\",\"Elastic Net\"],[\"nan\",\"4806\",\"16\",\"6\",\"50\",\"Elastic Net\"],[\"nan\",\"3507\",\"19\",\"3\",\"80\",\"Elastic Net\"],[\"nan\",\"205\",\"20\",\"16\",\"69\",\"Elastic Net\"],[\"nan\",\"1384\",\"15\",\"12\",\"85\",\"Elastic Net\"],[\"nan\",\"544\",\"46\",\"16\",\"69\",\"Elastic Net\"],[\"nan\",\"10324\",\"14\",\"19\",\"80\",\"Elastic Net\"],[\"nan\",\"7109\",\"20\",\"40\",\"85\",\"Elastic Net\"],[\"nan\",\"7056\",\"41\",\"12\",\"85\",\"Elastic Net\"],[\"nan\",\"10403\",\"25\",\"12\",\"80\",\"Elastic Net\"]],\"error_y\":{\"array\":[null,null,null,null,null,null,null,null,null,null,null,null,null,null,null,null,null,null,null,null,null],\"type\":\"data\"},\"hovertemplate\":\"%{x},<Br> score: %{y:.3f} +- %{customdata[0]:.3f}, %{customdata[1]} participants with %{customdata[2]} variables, age range %{customdata[3]} to %{customdata[4]} years old <extra>%{customdata[5]}</extra>\",\"name\":\"Elastic Net\",\"type\":\"bar\",\"x\":[5,15,25,35,45,55,65,75,85,95,105,115,125,135,145,155,165,175,185,195,205],\"y\":[null,null,null,null,null,null,null,null,null,null,null,null,null,null,null,null,null,null,null,null,null]},{\"customdata\":[[\"nan\",\"84160\",\"19\",\"2\",\"85\",\"Tree base algorithm\"],[\"nan\",\"4735\",\"36\",\"12\",\"80\",\"Tree base algorithm\"],[\"nan\",\"51199\",\"15\",\"6\",\"85\",\"Tree base algorithm\"],[\"nan\",\"3152\",\"40\",\"3\",\"80\",\"Tree base algorithm\"],[\"nan\",\"4979\",\"27\",\"6\",\"80\",\"Tree base algorithm\"],[\"nan\",\"36480\",\"15\",\"6\",\"80\",\"Tree base algorithm\"],[\"nan\",\"6815\",\"17\",\"18\",\"60\",\"Tree base algorithm\"],[\"nan\",\"3227\",\"24\",\"1\",\"6\",\"Tree base algorithm\"],[\"nan\",\"3890\",\"39\",\"12\",\"85\",\"Tree base algorithm\"],[\"nan\",\"5333\",\"19\",\"3\",\"80\",\"Tree base algorithm\"],[\"nan\",\"4986\",\"49\",\"6\",\"85\",\"Tree base algorithm\"],[\"nan\",\"47437\",\"14\",\"1\",\"85\",\"Tree base algorithm\"],[\"nan\",\"4806\",\"16\",\"6\",\"50\",\"Tree base algorithm\"],[\"nan\",\"3507\",\"19\",\"3\",\"80\",\"Tree base algorithm\"],[\"nan\",\"205\",\"20\",\"16\",\"69\",\"Tree base algorithm\"],[\"nan\",\"1384\",\"15\",\"12\",\"85\",\"Tree base algorithm\"],[\"nan\",\"544\",\"46\",\"16\",\"69\",\"Tree base algorithm\"],[\"nan\",\"10324\",\"14\",\"19\",\"80\",\"Tree base algorithm\"],[\"nan\",\"7109\",\"20\",\"40\",\"85\",\"Tree base algorithm\"],[\"nan\",\"7056\",\"41\",\"12\",\"85\",\"Tree base algorithm\"],[\"nan\",\"10403\",\"25\",\"12\",\"80\",\"Tree base algorithm\"]],\"error_y\":{\"array\":[null,null,null,null,null,null,null,null,null,null,null,null,null,null,null,null,null,null,null,null,null],\"type\":\"data\"},\"hovertemplate\":\"%{x},<Br> score: %{y:.3f} +- %{customdata[0]:.3f}, %{customdata[1]} participants with %{customdata[2]} variables, age range %{customdata[3]} to %{customdata[4]} years old <extra>%{customdata[5]}</extra>\",\"name\":\"Tree base algorithm\",\"type\":\"bar\",\"x\":[5,15,25,35,45,55,65,75,85,95,105,115,125,135,145,155,165,175,185,195,205],\"y\":[null,null,null,null,null,null,null,null,null,null,null,null,null,null,null,null,null,null,null,null,null]}],                        {\"annotations\":[{\"font\":{\"size\":15},\"showarrow\":false,\"text\":\"Examination\",\"textangle\":90,\"x\":5.0,\"xref\":\"x\",\"y\":-0.75,\"yref\":\"y\"},{\"font\":{\"size\":14},\"showarrow\":false,\"text\":\"Body Measures\",\"textangle\":90,\"x\":5.0,\"xref\":\"x\",\"y\":null,\"yref\":\"y\"},{\"font\":{\"size\":15},\"showarrow\":false,\"text\":\"Laboratory\",\"textangle\":90,\"x\":60.0,\"xref\":\"x\",\"y\":-0.75,\"yref\":\"y\"},{\"font\":{\"size\":14},\"showarrow\":false,\"text\":\"Autoantibodies - Immunofl...\",\"textangle\":90,\"x\":15.0,\"xref\":\"x\",\"y\":null,\"yref\":\"y\"},{\"font\":{\"size\":14},\"showarrow\":false,\"text\":\"Cholesterol - Total\",\"textangle\":90,\"x\":25.0,\"xref\":\"x\",\"y\":null,\"yref\":\"y\"},{\"font\":{\"size\":14},\"showarrow\":false,\"text\":\"Fatty Acids - Serum\",\"textangle\":90,\"x\":35.0,\"xref\":\"x\",\"y\":null,\"yref\":\"y\"},{\"font\":{\"size\":14},\"showarrow\":false,\"text\":\"Flame Retardant Metabolit...\",\"textangle\":90,\"x\":45.0,\"xref\":\"x\",\"y\":null,\"yref\":\"y\"},{\"font\":{\"size\":14},\"showarrow\":false,\"text\":\"Hepatitis E : IgG & IgM A...\",\"textangle\":90,\"x\":55.0,\"xref\":\"x\",\"y\":null,\"yref\":\"y\"},{\"font\":{\"size\":14},\"showarrow\":false,\"text\":\"Human Papillomavirus (HPV...\",\"textangle\":90,\"x\":65.0,\"xref\":\"x\",\"y\":null,\"yref\":\"y\"},{\"font\":{\"size\":14},\"showarrow\":false,\"text\":\"Lead - Dust\",\"textangle\":90,\"x\":75.0,\"xref\":\"x\",\"y\":null,\"yref\":\"y\"},{\"font\":{\"size\":14},\"showarrow\":false,\"text\":\"Non-dioxin-like Polychlor...\",\"textangle\":90,\"x\":85.0,\"xref\":\"x\",\"y\":null,\"yref\":\"y\"},{\"font\":{\"size\":14},\"showarrow\":false,\"text\":\"Personal Care and Consume...\",\"textangle\":90,\"x\":95.0,\"xref\":\"x\",\"y\":null,\"yref\":\"y\"},{\"font\":{\"size\":14},\"showarrow\":false,\"text\":\"Pesticides - Current Use ...\",\"textangle\":90,\"x\":105.0,\"xref\":\"x\",\"y\":null,\"yref\":\"y\"},{\"font\":{\"size\":15},\"showarrow\":false,\"text\":\"Questionnaire\",\"textangle\":90,\"x\":160.0,\"xref\":\"x\",\"y\":-0.75,\"yref\":\"y\"},{\"font\":{\"size\":14},\"showarrow\":false,\"text\":\"Creatine Kinase\",\"textangle\":90,\"x\":115.0,\"xref\":\"x\",\"y\":null,\"yref\":\"y\"},{\"font\":{\"size\":14},\"showarrow\":false,\"text\":\"Early Childhood\",\"textangle\":90,\"x\":125.0,\"xref\":\"x\",\"y\":null,\"yref\":\"y\"},{\"font\":{\"size\":14},\"showarrow\":false,\"text\":\"Hepatitis\",\"textangle\":90,\"x\":135.0,\"xref\":\"x\",\"y\":null,\"yref\":\"y\"},{\"font\":{\"size\":14},\"showarrow\":false,\"text\":\"Mental Health - Panic Dis...\",\"textangle\":90,\"x\":145.0,\"xref\":\"x\",\"y\":null,\"yref\":\"y\"},{\"font\":{\"size\":14},\"showarrow\":false,\"text\":\"Osteoporosis\",\"textangle\":90,\"x\":155.0,\"xref\":\"x\",\"y\":null,\"yref\":\"y\"},{\"font\":{\"size\":14},\"showarrow\":false,\"text\":\"Prostate Conditions\",\"textangle\":90,\"x\":165.0,\"xref\":\"x\",\"y\":null,\"yref\":\"y\"},{\"font\":{\"size\":14},\"showarrow\":false,\"text\":\"Prostate Specific Antigen...\",\"textangle\":90,\"x\":175.0,\"xref\":\"x\",\"y\":null,\"yref\":\"y\"},{\"font\":{\"size\":14},\"showarrow\":false,\"text\":\"Smoking - Cigarette/Tobac...\",\"textangle\":90,\"x\":185.0,\"xref\":\"x\",\"y\":null,\"yref\":\"y\"},{\"font\":{\"size\":14},\"showarrow\":false,\"text\":\"Taste & Smell\",\"textangle\":90,\"x\":195.0,\"xref\":\"x\",\"y\":null,\"yref\":\"y\"},{\"font\":{\"size\":14},\"showarrow\":false,\"text\":\"Volatile Toxicant (Subsam...\",\"textangle\":90,\"x\":205.0,\"xref\":\"x\",\"y\":null,\"yref\":\"y\"}],\"height\":800,\"legend\":{\"font\":{\"size\":30},\"orientation\":\"h\",\"yanchor\":\"bottom\"},\"margin\":{\"b\":0,\"l\":0,\"r\":0,\"t\":0},\"shapes\":[{\"line\":{\"color\":\"Black\",\"width\":0.5},\"type\":\"line\",\"x0\":0.0,\"x1\":0.0,\"xref\":\"x\",\"y0\":-0.5,\"y1\":-1,\"yref\":\"y\"},{\"line\":{\"color\":\"Black\",\"width\":0.5},\"type\":\"line\",\"x0\":0.0,\"x1\":0.0,\"xref\":\"x\",\"y0\":null,\"y1\":-0.5,\"yref\":\"y\"},{\"line\":{\"color\":\"Black\",\"width\":0.5},\"type\":\"line\",\"x0\":10.0,\"x1\":10.0,\"xref\":\"x\",\"y0\":-0.5,\"y1\":-1,\"yref\":\"y\"},{\"line\":{\"color\":\"Black\",\"width\":0.5},\"type\":\"line\",\"x0\":10.0,\"x1\":10.0,\"xref\":\"x\",\"y0\":null,\"y1\":-0.5,\"yref\":\"y\"},{\"line\":{\"color\":\"Black\",\"width\":0.5},\"type\":\"line\",\"x0\":20.0,\"x1\":20.0,\"xref\":\"x\",\"y0\":null,\"y1\":-0.5,\"yref\":\"y\"},{\"line\":{\"color\":\"Black\",\"width\":0.5},\"type\":\"line\",\"x0\":30.0,\"x1\":30.0,\"xref\":\"x\",\"y0\":null,\"y1\":-0.5,\"yref\":\"y\"},{\"line\":{\"color\":\"Black\",\"width\":0.5},\"type\":\"line\",\"x0\":40.0,\"x1\":40.0,\"xref\":\"x\",\"y0\":null,\"y1\":-0.5,\"yref\":\"y\"},{\"line\":{\"color\":\"Black\",\"width\":0.5},\"type\":\"line\",\"x0\":50.0,\"x1\":50.0,\"xref\":\"x\",\"y0\":null,\"y1\":-0.5,\"yref\":\"y\"},{\"line\":{\"color\":\"Black\",\"width\":0.5},\"type\":\"line\",\"x0\":60.0,\"x1\":60.0,\"xref\":\"x\",\"y0\":null,\"y1\":-0.5,\"yref\":\"y\"},{\"line\":{\"color\":\"Black\",\"width\":0.5},\"type\":\"line\",\"x0\":70.0,\"x1\":70.0,\"xref\":\"x\",\"y0\":null,\"y1\":-0.5,\"yref\":\"y\"},{\"line\":{\"color\":\"Black\",\"width\":0.5},\"type\":\"line\",\"x0\":80.0,\"x1\":80.0,\"xref\":\"x\",\"y0\":null,\"y1\":-0.5,\"yref\":\"y\"},{\"line\":{\"color\":\"Black\",\"width\":0.5},\"type\":\"line\",\"x0\":90.0,\"x1\":90.0,\"xref\":\"x\",\"y0\":null,\"y1\":-0.5,\"yref\":\"y\"},{\"line\":{\"color\":\"Black\",\"width\":0.5},\"type\":\"line\",\"x0\":100.0,\"x1\":100.0,\"xref\":\"x\",\"y0\":null,\"y1\":-0.5,\"yref\":\"y\"},{\"line\":{\"color\":\"Black\",\"width\":0.5},\"type\":\"line\",\"x0\":110.0,\"x1\":110.0,\"xref\":\"x\",\"y0\":-0.5,\"y1\":-1,\"yref\":\"y\"},{\"line\":{\"color\":\"Black\",\"width\":0.5},\"type\":\"line\",\"x0\":110.0,\"x1\":110.0,\"xref\":\"x\",\"y0\":null,\"y1\":-0.5,\"yref\":\"y\"},{\"line\":{\"color\":\"Black\",\"width\":0.5},\"type\":\"line\",\"x0\":120.0,\"x1\":120.0,\"xref\":\"x\",\"y0\":null,\"y1\":-0.5,\"yref\":\"y\"},{\"line\":{\"color\":\"Black\",\"width\":0.5},\"type\":\"line\",\"x0\":130.0,\"x1\":130.0,\"xref\":\"x\",\"y0\":null,\"y1\":-0.5,\"yref\":\"y\"},{\"line\":{\"color\":\"Black\",\"width\":0.5},\"type\":\"line\",\"x0\":140.0,\"x1\":140.0,\"xref\":\"x\",\"y0\":null,\"y1\":-0.5,\"yref\":\"y\"},{\"line\":{\"color\":\"Black\",\"width\":0.5},\"type\":\"line\",\"x0\":150.0,\"x1\":150.0,\"xref\":\"x\",\"y0\":null,\"y1\":-0.5,\"yref\":\"y\"},{\"line\":{\"color\":\"Black\",\"width\":0.5},\"type\":\"line\",\"x0\":160.0,\"x1\":160.0,\"xref\":\"x\",\"y0\":null,\"y1\":-0.5,\"yref\":\"y\"},{\"line\":{\"color\":\"Black\",\"width\":0.5},\"type\":\"line\",\"x0\":170.0,\"x1\":170.0,\"xref\":\"x\",\"y0\":null,\"y1\":-0.5,\"yref\":\"y\"},{\"line\":{\"color\":\"Black\",\"width\":0.5},\"type\":\"line\",\"x0\":180.0,\"x1\":180.0,\"xref\":\"x\",\"y0\":null,\"y1\":-0.5,\"yref\":\"y\"},{\"line\":{\"color\":\"Black\",\"width\":0.5},\"type\":\"line\",\"x0\":190.0,\"x1\":190.0,\"xref\":\"x\",\"y0\":null,\"y1\":-0.5,\"yref\":\"y\"},{\"line\":{\"color\":\"Black\",\"width\":0.5},\"type\":\"line\",\"x0\":200.0,\"x1\":200.0,\"xref\":\"x\",\"y0\":null,\"y1\":-0.5,\"yref\":\"y\"},{\"line\":{\"color\":\"Black\",\"width\":0.5},\"type\":\"line\",\"x0\":210.0,\"x1\":210.0,\"xref\":\"x\",\"y0\":null,\"y1\":-1,\"yref\":\"y\"}],\"template\":{\"data\":{\"bar\":[{\"error_x\":{\"color\":\"#2a3f5f\"},\"error_y\":{\"color\":\"#2a3f5f\"},\"marker\":{\"line\":{\"color\":\"#E5ECF6\",\"width\":0.5},\"pattern\":{\"fillmode\":\"overlay\",\"size\":10,\"solidity\":0.2}},\"type\":\"bar\"}],\"barpolar\":[{\"marker\":{\"line\":{\"color\":\"#E5ECF6\",\"width\":0.5},\"pattern\":{\"fillmode\":\"overlay\",\"size\":10,\"solidity\":0.2}},\"type\":\"barpolar\"}],\"carpet\":[{\"aaxis\":{\"endlinecolor\":\"#2a3f5f\",\"gridcolor\":\"white\",\"linecolor\":\"white\",\"minorgridcolor\":\"white\",\"startlinecolor\":\"#2a3f5f\"},\"baxis\":{\"endlinecolor\":\"#2a3f5f\",\"gridcolor\":\"white\",\"linecolor\":\"white\",\"minorgridcolor\":\"white\",\"startlinecolor\":\"#2a3f5f\"},\"type\":\"carpet\"}],\"choropleth\":[{\"colorbar\":{\"outlinewidth\":0,\"ticks\":\"\"},\"type\":\"choropleth\"}],\"contour\":[{\"colorbar\":{\"outlinewidth\":0,\"ticks\":\"\"},\"colorscale\":[[0.0,\"#0d0887\"],[0.1111111111111111,\"#46039f\"],[0.2222222222222222,\"#7201a8\"],[0.3333333333333333,\"#9c179e\"],[0.4444444444444444,\"#bd3786\"],[0.5555555555555556,\"#d8576b\"],[0.6666666666666666,\"#ed7953\"],[0.7777777777777778,\"#fb9f3a\"],[0.8888888888888888,\"#fdca26\"],[1.0,\"#f0f921\"]],\"type\":\"contour\"}],\"contourcarpet\":[{\"colorbar\":{\"outlinewidth\":0,\"ticks\":\"\"},\"type\":\"contourcarpet\"}],\"heatmap\":[{\"colorbar\":{\"outlinewidth\":0,\"ticks\":\"\"},\"colorscale\":[[0.0,\"#0d0887\"],[0.1111111111111111,\"#46039f\"],[0.2222222222222222,\"#7201a8\"],[0.3333333333333333,\"#9c179e\"],[0.4444444444444444,\"#bd3786\"],[0.5555555555555556,\"#d8576b\"],[0.6666666666666666,\"#ed7953\"],[0.7777777777777778,\"#fb9f3a\"],[0.8888888888888888,\"#fdca26\"],[1.0,\"#f0f921\"]],\"type\":\"heatmap\"}],\"heatmapgl\":[{\"colorbar\":{\"outlinewidth\":0,\"ticks\":\"\"},\"colorscale\":[[0.0,\"#0d0887\"],[0.1111111111111111,\"#46039f\"],[0.2222222222222222,\"#7201a8\"],[0.3333333333333333,\"#9c179e\"],[0.4444444444444444,\"#bd3786\"],[0.5555555555555556,\"#d8576b\"],[0.6666666666666666,\"#ed7953\"],[0.7777777777777778,\"#fb9f3a\"],[0.8888888888888888,\"#fdca26\"],[1.0,\"#f0f921\"]],\"type\":\"heatmapgl\"}],\"histogram\":[{\"marker\":{\"pattern\":{\"fillmode\":\"overlay\",\"size\":10,\"solidity\":0.2}},\"type\":\"histogram\"}],\"histogram2d\":[{\"colorbar\":{\"outlinewidth\":0,\"ticks\":\"\"},\"colorscale\":[[0.0,\"#0d0887\"],[0.1111111111111111,\"#46039f\"],[0.2222222222222222,\"#7201a8\"],[0.3333333333333333,\"#9c179e\"],[0.4444444444444444,\"#bd3786\"],[0.5555555555555556,\"#d8576b\"],[0.6666666666666666,\"#ed7953\"],[0.7777777777777778,\"#fb9f3a\"],[0.8888888888888888,\"#fdca26\"],[1.0,\"#f0f921\"]],\"type\":\"histogram2d\"}],\"histogram2dcontour\":[{\"colorbar\":{\"outlinewidth\":0,\"ticks\":\"\"},\"colorscale\":[[0.0,\"#0d0887\"],[0.1111111111111111,\"#46039f\"],[0.2222222222222222,\"#7201a8\"],[0.3333333333333333,\"#9c179e\"],[0.4444444444444444,\"#bd3786\"],[0.5555555555555556,\"#d8576b\"],[0.6666666666666666,\"#ed7953\"],[0.7777777777777778,\"#fb9f3a\"],[0.8888888888888888,\"#fdca26\"],[1.0,\"#f0f921\"]],\"type\":\"histogram2dcontour\"}],\"mesh3d\":[{\"colorbar\":{\"outlinewidth\":0,\"ticks\":\"\"},\"type\":\"mesh3d\"}],\"parcoords\":[{\"line\":{\"colorbar\":{\"outlinewidth\":0,\"ticks\":\"\"}},\"type\":\"parcoords\"}],\"pie\":[{\"automargin\":true,\"type\":\"pie\"}],\"scatter\":[{\"marker\":{\"colorbar\":{\"outlinewidth\":0,\"ticks\":\"\"}},\"type\":\"scatter\"}],\"scatter3d\":[{\"line\":{\"colorbar\":{\"outlinewidth\":0,\"ticks\":\"\"}},\"marker\":{\"colorbar\":{\"outlinewidth\":0,\"ticks\":\"\"}},\"type\":\"scatter3d\"}],\"scattercarpet\":[{\"marker\":{\"colorbar\":{\"outlinewidth\":0,\"ticks\":\"\"}},\"type\":\"scattercarpet\"}],\"scattergeo\":[{\"marker\":{\"colorbar\":{\"outlinewidth\":0,\"ticks\":\"\"}},\"type\":\"scattergeo\"}],\"scattergl\":[{\"marker\":{\"colorbar\":{\"outlinewidth\":0,\"ticks\":\"\"}},\"type\":\"scattergl\"}],\"scattermapbox\":[{\"marker\":{\"colorbar\":{\"outlinewidth\":0,\"ticks\":\"\"}},\"type\":\"scattermapbox\"}],\"scatterpolar\":[{\"marker\":{\"colorbar\":{\"outlinewidth\":0,\"ticks\":\"\"}},\"type\":\"scatterpolar\"}],\"scatterpolargl\":[{\"marker\":{\"colorbar\":{\"outlinewidth\":0,\"ticks\":\"\"}},\"type\":\"scatterpolargl\"}],\"scatterternary\":[{\"marker\":{\"colorbar\":{\"outlinewidth\":0,\"ticks\":\"\"}},\"type\":\"scatterternary\"}],\"surface\":[{\"colorbar\":{\"outlinewidth\":0,\"ticks\":\"\"},\"colorscale\":[[0.0,\"#0d0887\"],[0.1111111111111111,\"#46039f\"],[0.2222222222222222,\"#7201a8\"],[0.3333333333333333,\"#9c179e\"],[0.4444444444444444,\"#bd3786\"],[0.5555555555555556,\"#d8576b\"],[0.6666666666666666,\"#ed7953\"],[0.7777777777777778,\"#fb9f3a\"],[0.8888888888888888,\"#fdca26\"],[1.0,\"#f0f921\"]],\"type\":\"surface\"}],\"table\":[{\"cells\":{\"fill\":{\"color\":\"#EBF0F8\"},\"line\":{\"color\":\"white\"}},\"header\":{\"fill\":{\"color\":\"#C8D4E3\"},\"line\":{\"color\":\"white\"}},\"type\":\"table\"}]},\"layout\":{\"annotationdefaults\":{\"arrowcolor\":\"#2a3f5f\",\"arrowhead\":0,\"arrowwidth\":1},\"autotypenumbers\":\"strict\",\"coloraxis\":{\"colorbar\":{\"outlinewidth\":0,\"ticks\":\"\"}},\"colorscale\":{\"diverging\":[[0,\"#8e0152\"],[0.1,\"#c51b7d\"],[0.2,\"#de77ae\"],[0.3,\"#f1b6da\"],[0.4,\"#fde0ef\"],[0.5,\"#f7f7f7\"],[0.6,\"#e6f5d0\"],[0.7,\"#b8e186\"],[0.8,\"#7fbc41\"],[0.9,\"#4d9221\"],[1,\"#276419\"]],\"sequential\":[[0.0,\"#0d0887\"],[0.1111111111111111,\"#46039f\"],[0.2222222222222222,\"#7201a8\"],[0.3333333333333333,\"#9c179e\"],[0.4444444444444444,\"#bd3786\"],[0.5555555555555556,\"#d8576b\"],[0.6666666666666666,\"#ed7953\"],[0.7777777777777778,\"#fb9f3a\"],[0.8888888888888888,\"#fdca26\"],[1.0,\"#f0f921\"]],\"sequentialminus\":[[0.0,\"#0d0887\"],[0.1111111111111111,\"#46039f\"],[0.2222222222222222,\"#7201a8\"],[0.3333333333333333,\"#9c179e\"],[0.4444444444444444,\"#bd3786\"],[0.5555555555555556,\"#d8576b\"],[0.6666666666666666,\"#ed7953\"],[0.7777777777777778,\"#fb9f3a\"],[0.8888888888888888,\"#fdca26\"],[1.0,\"#f0f921\"]]},\"colorway\":[\"#636efa\",\"#EF553B\",\"#00cc96\",\"#ab63fa\",\"#FFA15A\",\"#19d3f3\",\"#FF6692\",\"#B6E880\",\"#FF97FF\",\"#FECB52\"],\"font\":{\"color\":\"#2a3f5f\"},\"geo\":{\"bgcolor\":\"white\",\"lakecolor\":\"white\",\"landcolor\":\"#E5ECF6\",\"showlakes\":true,\"showland\":true,\"subunitcolor\":\"white\"},\"hoverlabel\":{\"align\":\"left\"},\"hovermode\":\"closest\",\"mapbox\":{\"style\":\"light\"},\"paper_bgcolor\":\"white\",\"plot_bgcolor\":\"#E5ECF6\",\"polar\":{\"angularaxis\":{\"gridcolor\":\"white\",\"linecolor\":\"white\",\"ticks\":\"\"},\"bgcolor\":\"#E5ECF6\",\"radialaxis\":{\"gridcolor\":\"white\",\"linecolor\":\"white\",\"ticks\":\"\"}},\"scene\":{\"xaxis\":{\"backgroundcolor\":\"#E5ECF6\",\"gridcolor\":\"white\",\"gridwidth\":2,\"linecolor\":\"white\",\"showbackground\":true,\"ticks\":\"\",\"zerolinecolor\":\"white\"},\"yaxis\":{\"backgroundcolor\":\"#E5ECF6\",\"gridcolor\":\"white\",\"gridwidth\":2,\"linecolor\":\"white\",\"showbackground\":true,\"ticks\":\"\",\"zerolinecolor\":\"white\"},\"zaxis\":{\"backgroundcolor\":\"#E5ECF6\",\"gridcolor\":\"white\",\"gridwidth\":2,\"linecolor\":\"white\",\"showbackground\":true,\"ticks\":\"\",\"zerolinecolor\":\"white\"}},\"shapedefaults\":{\"line\":{\"color\":\"#2a3f5f\"}},\"ternary\":{\"aaxis\":{\"gridcolor\":\"white\",\"linecolor\":\"white\",\"ticks\":\"\"},\"baxis\":{\"gridcolor\":\"white\",\"linecolor\":\"white\",\"ticks\":\"\"},\"bgcolor\":\"#E5ECF6\",\"caxis\":{\"gridcolor\":\"white\",\"linecolor\":\"white\",\"ticks\":\"\"}},\"title\":{\"x\":0.05},\"xaxis\":{\"automargin\":true,\"gridcolor\":\"white\",\"linecolor\":\"white\",\"ticks\":\"\",\"title\":{\"standoff\":15},\"zerolinecolor\":\"white\",\"zerolinewidth\":2},\"yaxis\":{\"automargin\":true,\"gridcolor\":\"white\",\"linecolor\":\"white\",\"ticks\":\"\",\"title\":{\"standoff\":15},\"zerolinecolor\":\"white\",\"zerolinewidth\":2}}},\"xaxis\":{\"showgrid\":false,\"showticklabels\":false,\"ticktext\":[\"Examination - Body Measures\",\"Laboratory - Autoantibodies - Immunofluorescence & Immunoprecipitation Analyses (Surplus)\",\"Laboratory - Cholesterol - Total\",\"Laboratory - Fatty Acids - Serum\",\"Laboratory - Flame Retardant Metabolites - Urine (Surplus)\",\"Laboratory - Hepatitis E : IgG & IgM Antibodies\",\"Laboratory - Human Papillomavirus (HPV) - 6, 11, 16 & 18 Antibody - Serum: 4-plex CLIA\",\"Laboratory - Lead - Dust\",\"Laboratory - Non-dioxin-like Polychlorinated Biphenyls\",\"Laboratory - Personal Care and Consumer Product Chemicals and Metabolites\",\"Laboratory - Pesticides - Current Use - Urine (Formerly Priority Pesticides, Non-persistent Pesticide Metabolites)\",\"Questionnaire - Creatine Kinase\",\"Questionnaire - Early Childhood\",\"Questionnaire - Hepatitis\",\"Questionnaire - Mental Health - Panic Disorder\",\"Questionnaire - Osteoporosis\",\"Questionnaire - Prostate Conditions\",\"Questionnaire - Prostate Specific Antigen Follow-up\",\"Questionnaire - Smoking - Cigarette/Tobacco Use - Adult\",\"Questionnaire - Taste & Smell\",\"Questionnaire - Volatile Toxicant (Subsample)\"],\"tickvals\":[5,15,25,35,45,55,65,75,85,95,105,115,125,135,145,155,165,175,185,195,205],\"zeroline\":false},\"yaxis\":{\"dtick\":0.1,\"showgrid\":false,\"showticklabels\":true,\"tickfont\":{\"size\":20},\"title\":{\"font\":{\"size\":45},\"text\":\"Difference C-index\"},\"zeroline\":false}},                        {\"responsive\": true}                    ).then(function(){\n                            \nvar gd = document.getElementById('4af82a56-70e7-445b-85cb-a86cb78bc68e');\nvar x = new MutationObserver(function (mutations, observer) {{\n        var display = window.getComputedStyle(gd).display;\n        if (!display || display === 'none') {{\n            console.log([gd, 'removed!']);\n            Plotly.purge(gd);\n            observer.disconnect();\n        }}\n}});\n\n// Listen for the removal of the full notebook cells\nvar notebookContainer = gd.closest('#notebook-container');\nif (notebookContainer) {{\n    x.observe(notebookContainer, {childList: true});\n}}\n\n// Listen for the clearing of the current output cell\nvar outputEl = gd.closest('.output');\nif (outputEl) {{\n    x.observe(outputEl, {childList: true});\n}}\n\n                        })                };                });            </script>        </div>"
     },
     "metadata": {},
     "output_type": "display_data"
    }
   ],
   "source": [
    "hovertemplate = (\n",
    "    \"%{x},<Br> score: %{y:.3f} +- %{customdata[0]:.3f}, %{customdata[1]} participants with %{customdata[2]} variables, age range %{customdata[3]} to %{customdata[4]} years old <extra>%{customdata[5]}</extra>\"\n",
    ")\n",
    "\n",
    "figures = {}\n",
    "for fold in FOLDS:\n",
    "    scores_fold = scores.loc[:, (slice(None), slice(None), [\"numbers\", \"age_ranges\", fold])].droplevel(\"fold\", axis=\"columns\")\n",
    "\n",
    "    x_positions = pd.Series(np.arange(5, 10 * len(scores_fold.index) + 5, 10), index=scores_fold.index)\n",
    "\n",
    "    figures[fold] = go.Figure()\n",
    "    figures[fold].update_layout(\n",
    "        xaxis={\n",
    "            \"tickvals\": np.arange(5, 10 * len(scores_fold.index) + 5, 10),\n",
    "            \"ticktext\": [\" - \".join(elem) for elem in scores_fold.index],\n",
    "        }\n",
    "    )\n",
    "    \n",
    "    for target in targets:\n",
    "        for algorithm in algorithms:\n",
    "            customdata = np.dstack(\n",
    "                (\n",
    "                    scores_fold[(target, algorithm, f\"{metric}_std\")].values.flatten(),\n",
    "                    scores_fold[(target, \"numbers\", \"n_participants\")].values.flatten(),\n",
    "                    scores_fold[(target, \"numbers\", \"n_variables\")].values.flatten(),\n",
    "                    scores_fold[(target, \"age_ranges\", \"min\")].values.flatten().astype(int),\n",
    "                    scores_fold[(target, \"age_ranges\", \"max\")].values.flatten().astype(int),\n",
    "                    [ALGORITHMS[algorithm]] * len(scores_fold.index),\n",
    "                )\n",
    "            )[0]\n",
    "\n",
    "            figures[fold].add_bar(\n",
    "                x=x_positions.loc[scores_fold.index].values.flatten(),\n",
    "                y=scores_fold[(target, algorithm, metric)],\n",
    "                error_y={\"array\": scores_fold[(target, algorithm, f\"{metric}_std\")], \"type\": \"data\"},\n",
    "                name=ALGORITHMS[algorithm],\n",
    "                hovertemplate=hovertemplate,\n",
    "                customdata=customdata,\n",
    "            ) \n",
    "\n",
    "    add_custom_legend_axis(figures[fold], scores_fold.index, -120 if metric == \"rmse\" else -1, -60 if metric == \"rmse\" else -0.5, min(scores_fold.loc[:, (targets, algorithms, metric)].min().min(), 0))\n",
    "    \n",
    "    figures[fold].update_layout(\n",
    "        yaxis={\n",
    "            \"title\": SCORES[targets[0]][metric],\n",
    "            \"showgrid\": False,\n",
    "            \"zeroline\": False,\n",
    "            \"showticklabels\": True,\n",
    "            \"title_font\": {\"size\": 45},\n",
    "            \"dtick\": 12 if metric == \"rmse\" else 0.1,\n",
    "            \"tickfont_size\": 20,\n",
    "        },\n",
    "        xaxis={\"showgrid\": False, \"zeroline\": False},\n",
    "        height=800,\n",
    "        margin={\"l\": 0, \"r\": 0, \"b\": 0, \"t\": 0},\n",
    "        legend={\"orientation\": \"h\", \"yanchor\": \"bottom\", \"font\": {\"size\": 30}},\n",
    "    )\n",
    "    break\n",
    "\n",
    "figures[\"train\"].show()\n"
   ]
  },
  {
   "cell_type": "code",
   "execution_count": null,
   "metadata": {},
   "outputs": [],
   "source": []
  },
  {
   "cell_type": "code",
   "execution_count": null,
   "metadata": {},
   "outputs": [],
   "source": []
  },
  {
   "cell_type": "code",
   "execution_count": 21,
   "metadata": {},
   "outputs": [
    {
     "data": {
      "text/html": "<div>\n<style scoped>\n    .dataframe tbody tr th:only-of-type {\n        vertical-align: middle;\n    }\n\n    .dataframe tbody tr th {\n        vertical-align: top;\n    }\n\n    .dataframe thead tr th {\n        text-align: left;\n    }\n\n    .dataframe thead tr:last-of-type th {\n        text-align: right;\n    }\n</style>\n<table border=\"1\" class=\"dataframe\">\n  <thead>\n    <tr>\n      <th></th>\n      <th>target</th>\n      <th colspan=\"12\" halign=\"left\">age</th>\n    </tr>\n    <tr>\n      <th></th>\n      <th>algorithm</th>\n      <th colspan=\"2\" halign=\"left\">numbers</th>\n      <th colspan=\"2\" halign=\"left\">age_ranges</th>\n      <th colspan=\"8\" halign=\"left\">elastic_net</th>\n    </tr>\n    <tr>\n      <th></th>\n      <th>fold</th>\n      <th colspan=\"2\" halign=\"left\">numbers</th>\n      <th colspan=\"2\" halign=\"left\">age_ranges</th>\n      <th colspan=\"2\" halign=\"left\">train</th>\n      <th colspan=\"2\" halign=\"left\">test</th>\n      <th colspan=\"2\" halign=\"left\">train</th>\n      <th colspan=\"2\" halign=\"left\">test</th>\n    </tr>\n    <tr>\n      <th></th>\n      <th>metric</th>\n      <th>n_participants</th>\n      <th>n_variables</th>\n      <th>min</th>\n      <th>max</th>\n      <th>r2</th>\n      <th>r2_std</th>\n      <th>r2</th>\n      <th>r2_std</th>\n      <th>rmse</th>\n      <th>rmse_std</th>\n      <th>rmse</th>\n      <th>rmse_std</th>\n    </tr>\n    <tr>\n      <th>main_category</th>\n      <th>category</th>\n      <th></th>\n      <th></th>\n      <th></th>\n      <th></th>\n      <th></th>\n      <th></th>\n      <th></th>\n      <th></th>\n      <th></th>\n      <th></th>\n      <th></th>\n      <th></th>\n    </tr>\n  </thead>\n  <tbody>\n    <tr>\n      <th>examination</th>\n      <th>Body__Measures</th>\n      <td>84160</td>\n      <td>19</td>\n      <td>2.0</td>\n      <td>85.0</td>\n      <td>0.446</td>\n      <td>0.000</td>\n      <td>0.446</td>\n      <td>0.005</td>\n      <td>211.502</td>\n      <td>0.077</td>\n      <td>211.524</td>\n      <td>0.871</td>\n    </tr>\n    <tr>\n      <th rowspan=\"10\" valign=\"top\">laboratory</th>\n      <th>Autoantibodies__-__Immunofluorescence__&amp;__Immunoprecipitation__Analyses__(Surplus)</th>\n      <td>4735</td>\n      <td>36</td>\n      <td>12.0</td>\n      <td>80.0</td>\n      <td>0.064</td>\n      <td>0.002</td>\n      <td>0.054</td>\n      <td>0.016</td>\n      <td>237.176</td>\n      <td>0.661</td>\n      <td>237.919</td>\n      <td>5.972</td>\n    </tr>\n    <tr>\n      <th>Cholesterol__-__Total</th>\n      <td>51199</td>\n      <td>15</td>\n      <td>6.0</td>\n      <td>85.0</td>\n      <td>0.134</td>\n      <td>0.001</td>\n      <td>0.134</td>\n      <td>0.005</td>\n      <td>254.570</td>\n      <td>0.187</td>\n      <td>254.619</td>\n      <td>1.852</td>\n    </tr>\n    <tr>\n      <th>Fatty__Acids__-__Serum</th>\n      <td>3152</td>\n      <td>40</td>\n      <td>3.0</td>\n      <td>80.0</td>\n      <td>0.537</td>\n      <td>0.006</td>\n      <td>0.524</td>\n      <td>0.054</td>\n      <td>204.494</td>\n      <td>1.271</td>\n      <td>205.293</td>\n      <td>12.164</td>\n    </tr>\n    <tr>\n      <th>Flame__Retardant__Metabolites__-__Urine__(Surplus)</th>\n      <td>4979</td>\n      <td>27</td>\n      <td>6.0</td>\n      <td>80.0</td>\n      <td>0.111</td>\n      <td>0.003</td>\n      <td>0.110</td>\n      <td>0.032</td>\n      <td>255.425</td>\n      <td>0.714</td>\n      <td>255.251</td>\n      <td>5.776</td>\n    </tr>\n    <tr>\n      <th>Hepatitis__E__:__IgG__&amp;__IgM__Antibodies</th>\n      <td>36480</td>\n      <td>15</td>\n      <td>6.0</td>\n      <td>80.0</td>\n      <td>0.084</td>\n      <td>0.001</td>\n      <td>0.083</td>\n      <td>0.008</td>\n      <td>261.004</td>\n      <td>0.165</td>\n      <td>261.057</td>\n      <td>1.332</td>\n    </tr>\n    <tr>\n      <th>Human__Papillomavirus__(HPV)__-__6,__11,__16__&amp;__18__Antibody__-__Serum:__4-plex__CLIA</th>\n      <td>6815</td>\n      <td>17</td>\n      <td>18.0</td>\n      <td>60.1</td>\n      <td>0.033</td>\n      <td>0.001</td>\n      <td>0.031</td>\n      <td>0.012</td>\n      <td>147.470</td>\n      <td>0.279</td>\n      <td>147.602</td>\n      <td>2.529</td>\n    </tr>\n    <tr>\n      <th>Lead__-__Dust</th>\n      <td>3227</td>\n      <td>24</td>\n      <td>1.0</td>\n      <td>6.1</td>\n      <td>0.004</td>\n      <td>0.001</td>\n      <td>0.001</td>\n      <td>0.007</td>\n      <td>17.145</td>\n      <td>0.049</td>\n      <td>17.253</td>\n      <td>0.436</td>\n    </tr>\n    <tr>\n      <th>Non-dioxin-like__Polychlorinated__Biphenyls</th>\n      <td>3890</td>\n      <td>39</td>\n      <td>12.0</td>\n      <td>85.0</td>\n      <td>0.654</td>\n      <td>0.004</td>\n      <td>0.642</td>\n      <td>0.040</td>\n      <td>161.535</td>\n      <td>1.049</td>\n      <td>162.457</td>\n      <td>9.485</td>\n    </tr>\n    <tr>\n      <th>Personal__Care__and__Consumer__Product__Chemicals__and__Metabolites</th>\n      <td>5333</td>\n      <td>19</td>\n      <td>3.0</td>\n      <td>80.0</td>\n      <td>0.034</td>\n      <td>0.001</td>\n      <td>0.028</td>\n      <td>0.013</td>\n      <td>273.030</td>\n      <td>0.578</td>\n      <td>273.363</td>\n      <td>5.418</td>\n    </tr>\n    <tr>\n      <th>Pesticides__-__Current__Use__-__Urine__(Formerly__Priority__Pesticides,__Non-persistent__Pesticide__Metabolites)</th>\n      <td>4986</td>\n      <td>49</td>\n      <td>6.0</td>\n      <td>85.0</td>\n      <td>0.080</td>\n      <td>0.002</td>\n      <td>0.071</td>\n      <td>0.023</td>\n      <td>266.603</td>\n      <td>1.000</td>\n      <td>267.179</td>\n      <td>8.552</td>\n    </tr>\n    <tr>\n      <th rowspan=\"10\" valign=\"top\">questionnaire</th>\n      <th>Creatine__Kinase</th>\n      <td>12343</td>\n      <td>16</td>\n      <td>12.0</td>\n      <td>80.0</td>\n      <td>0.076</td>\n      <td>0.002</td>\n      <td>0.075</td>\n      <td>0.015</td>\n      <td>242.775</td>\n      <td>0.282</td>\n      <td>242.884</td>\n      <td>2.906</td>\n    </tr>\n    <tr>\n      <th>Early__Childhood</th>\n      <td>33214</td>\n      <td>17</td>\n      <td>0.0</td>\n      <td>16.1</td>\n      <td>0.008</td>\n      <td>0.000</td>\n      <td>0.008</td>\n      <td>0.004</td>\n      <td>58.191</td>\n      <td>0.040</td>\n      <td>58.199</td>\n      <td>0.344</td>\n    </tr>\n    <tr>\n      <th>Hepatitis</th>\n      <td>24816</td>\n      <td>15</td>\n      <td>6.0</td>\n      <td>80.0</td>\n      <td>0.023</td>\n      <td>0.001</td>\n      <td>0.022</td>\n      <td>0.008</td>\n      <td>274.329</td>\n      <td>0.124</td>\n      <td>274.397</td>\n      <td>0.947</td>\n    </tr>\n    <tr>\n      <th>Mental__Health__-__Panic__Disorder</th>\n      <td>305</td>\n      <td>36</td>\n      <td>20.0</td>\n      <td>40.0</td>\n      <td>0.075</td>\n      <td>0.008</td>\n      <td>-0.057</td>\n      <td>0.128</td>\n      <td>69.514</td>\n      <td>0.265</td>\n      <td>77.324</td>\n      <td>2.285</td>\n    </tr>\n    <tr>\n      <th>Osteoporosis</th>\n      <td>24015</td>\n      <td>19</td>\n      <td>20.0</td>\n      <td>85.0</td>\n      <td>0.050</td>\n      <td>0.001</td>\n      <td>0.050</td>\n      <td>0.005</td>\n      <td>204.796</td>\n      <td>0.192</td>\n      <td>204.815</td>\n      <td>1.779</td>\n    </tr>\n    <tr>\n      <th>Prostate__Conditions</th>\n      <td>5392</td>\n      <td>17</td>\n      <td>40.0</td>\n      <td>85.0</td>\n      <td>0.079</td>\n      <td>0.002</td>\n      <td>0.080</td>\n      <td>0.024</td>\n      <td>148.406</td>\n      <td>0.431</td>\n      <td>148.343</td>\n      <td>4.221</td>\n    </tr>\n    <tr>\n      <th>Prostate__Specific__Antigen__Follow-up</th>\n      <td>81</td>\n      <td>32</td>\n      <td>45.6</td>\n      <td>85.0</td>\n      <td>0.301</td>\n      <td>0.027</td>\n      <td>-0.054</td>\n      <td>0.779</td>\n      <td>90.672</td>\n      <td>3.027</td>\n      <td>118.565</td>\n      <td>34.996</td>\n    </tr>\n    <tr>\n      <th>Smoking__-__Cigarette_or_Tobacco__Use__-__Adult</th>\n      <td>15324</td>\n      <td>17</td>\n      <td>20.0</td>\n      <td>85.0</td>\n      <td>0.051</td>\n      <td>0.002</td>\n      <td>0.050</td>\n      <td>0.017</td>\n      <td>227.724</td>\n      <td>0.342</td>\n      <td>227.790</td>\n      <td>2.944</td>\n    </tr>\n    <tr>\n      <th>Taste__&amp;__Smell</th>\n      <td>7418</td>\n      <td>32</td>\n      <td>40.0</td>\n      <td>80.0</td>\n      <td>0.076</td>\n      <td>0.002</td>\n      <td>0.071</td>\n      <td>0.016</td>\n      <td>141.844</td>\n      <td>0.205</td>\n      <td>142.083</td>\n      <td>1.711</td>\n    </tr>\n    <tr>\n      <th>Volatile__Toxicant__(Subsample)</th>\n      <td>5925</td>\n      <td>31</td>\n      <td>12.0</td>\n      <td>80.0</td>\n      <td>0.116</td>\n      <td>0.004</td>\n      <td>0.108</td>\n      <td>0.028</td>\n      <td>238.046</td>\n      <td>0.693</td>\n      <td>238.684</td>\n      <td>5.603</td>\n    </tr>\n  </tbody>\n</table>\n</div>",
      "text/plain": "target                                                                      age  \\\nalgorithm                                                               numbers   \nfold                                                                    numbers   \nmetric                                                           n_participants   \nmain_category category                                                            \nexamination   Body__Measures                                              84160   \nlaboratory    Autoantibodies__-__Immunofluorescence__&__Immun...           4735   \n              Cholesterol__-__Total                                       51199   \n              Fatty__Acids__-__Serum                                       3152   \n              Flame__Retardant__Metabolites__-__Urine__(Surplus)           4979   \n              Hepatitis__E__:__IgG__&__IgM__Antibodies                    36480   \n              Human__Papillomavirus__(HPV)__-__6,__11,__16__&...           6815   \n              Lead__-__Dust                                                3227   \n              Non-dioxin-like__Polychlorinated__Biphenyls                  3890   \n              Personal__Care__and__Consumer__Product__Chemica...           5333   \n              Pesticides__-__Current__Use__-__Urine__(Formerl...           4986   \nquestionnaire Creatine__Kinase                                            12343   \n              Early__Childhood                                            33214   \n              Hepatitis                                                   24816   \n              Mental__Health__-__Panic__Disorder                            305   \n              Osteoporosis                                                24015   \n              Prostate__Conditions                                         5392   \n              Prostate__Specific__Antigen__Follow-up                         81   \n              Smoking__-__Cigarette_or_Tobacco__Use__-__Adult             15324   \n              Taste__&__Smell                                              7418   \n              Volatile__Toxicant__(Subsample)                              5925   \n\ntarget                                                                        \\\nalgorithm                                                                      \nfold                                                                           \nmetric                                                           n_variables   \nmain_category category                                                         \nexamination   Body__Measures                                              19   \nlaboratory    Autoantibodies__-__Immunofluorescence__&__Immun...          36   \n              Cholesterol__-__Total                                       15   \n              Fatty__Acids__-__Serum                                      40   \n              Flame__Retardant__Metabolites__-__Urine__(Surplus)          27   \n              Hepatitis__E__:__IgG__&__IgM__Antibodies                    15   \n              Human__Papillomavirus__(HPV)__-__6,__11,__16__&...          17   \n              Lead__-__Dust                                               24   \n              Non-dioxin-like__Polychlorinated__Biphenyls                 39   \n              Personal__Care__and__Consumer__Product__Chemica...          19   \n              Pesticides__-__Current__Use__-__Urine__(Formerl...          49   \nquestionnaire Creatine__Kinase                                            16   \n              Early__Childhood                                            17   \n              Hepatitis                                                   15   \n              Mental__Health__-__Panic__Disorder                          36   \n              Osteoporosis                                                19   \n              Prostate__Conditions                                        17   \n              Prostate__Specific__Antigen__Follow-up                      32   \n              Smoking__-__Cigarette_or_Tobacco__Use__-__Adult             17   \n              Taste__&__Smell                                             32   \n              Volatile__Toxicant__(Subsample)                             31   \n\ntarget                                                                       \\\nalgorithm                                                        age_ranges   \nfold                                                             age_ranges   \nmetric                                                                  min   \nmain_category category                                                        \nexamination   Body__Measures                                            2.0   \nlaboratory    Autoantibodies__-__Immunofluorescence__&__Immun...       12.0   \n              Cholesterol__-__Total                                     6.0   \n              Fatty__Acids__-__Serum                                    3.0   \n              Flame__Retardant__Metabolites__-__Urine__(Surplus)        6.0   \n              Hepatitis__E__:__IgG__&__IgM__Antibodies                  6.0   \n              Human__Papillomavirus__(HPV)__-__6,__11,__16__&...       18.0   \n              Lead__-__Dust                                             1.0   \n              Non-dioxin-like__Polychlorinated__Biphenyls              12.0   \n              Personal__Care__and__Consumer__Product__Chemica...        3.0   \n              Pesticides__-__Current__Use__-__Urine__(Formerl...        6.0   \nquestionnaire Creatine__Kinase                                         12.0   \n              Early__Childhood                                          0.0   \n              Hepatitis                                                 6.0   \n              Mental__Health__-__Panic__Disorder                       20.0   \n              Osteoporosis                                             20.0   \n              Prostate__Conditions                                     40.0   \n              Prostate__Specific__Antigen__Follow-up                   45.6   \n              Smoking__-__Cigarette_or_Tobacco__Use__-__Adult          20.0   \n              Taste__&__Smell                                          40.0   \n              Volatile__Toxicant__(Subsample)                          12.0   \n\ntarget                                                                  \\\nalgorithm                                                                \nfold                                                                     \nmetric                                                             max   \nmain_category category                                                   \nexamination   Body__Measures                                      85.0   \nlaboratory    Autoantibodies__-__Immunofluorescence__&__Immun...  80.0   \n              Cholesterol__-__Total                               85.0   \n              Fatty__Acids__-__Serum                              80.0   \n              Flame__Retardant__Metabolites__-__Urine__(Surplus)  80.0   \n              Hepatitis__E__:__IgG__&__IgM__Antibodies            80.0   \n              Human__Papillomavirus__(HPV)__-__6,__11,__16__&...  60.1   \n              Lead__-__Dust                                        6.1   \n              Non-dioxin-like__Polychlorinated__Biphenyls         85.0   \n              Personal__Care__and__Consumer__Product__Chemica...  80.0   \n              Pesticides__-__Current__Use__-__Urine__(Formerl...  85.0   \nquestionnaire Creatine__Kinase                                    80.0   \n              Early__Childhood                                    16.1   \n              Hepatitis                                           80.0   \n              Mental__Health__-__Panic__Disorder                  40.0   \n              Osteoporosis                                        85.0   \n              Prostate__Conditions                                85.0   \n              Prostate__Specific__Antigen__Follow-up              85.0   \n              Smoking__-__Cigarette_or_Tobacco__Use__-__Adult     85.0   \n              Taste__&__Smell                                     80.0   \n              Volatile__Toxicant__(Subsample)                     80.0   \n\ntarget                                                                        \\\nalgorithm                                                        elastic_net   \nfold                                                                   train   \nmetric                                                                    r2   \nmain_category category                                                         \nexamination   Body__Measures                                           0.446   \nlaboratory    Autoantibodies__-__Immunofluorescence__&__Immun...       0.064   \n              Cholesterol__-__Total                                    0.134   \n              Fatty__Acids__-__Serum                                   0.537   \n              Flame__Retardant__Metabolites__-__Urine__(Surplus)       0.111   \n              Hepatitis__E__:__IgG__&__IgM__Antibodies                 0.084   \n              Human__Papillomavirus__(HPV)__-__6,__11,__16__&...       0.033   \n              Lead__-__Dust                                            0.004   \n              Non-dioxin-like__Polychlorinated__Biphenyls              0.654   \n              Personal__Care__and__Consumer__Product__Chemica...       0.034   \n              Pesticides__-__Current__Use__-__Urine__(Formerl...       0.080   \nquestionnaire Creatine__Kinase                                         0.076   \n              Early__Childhood                                         0.008   \n              Hepatitis                                                0.023   \n              Mental__Health__-__Panic__Disorder                       0.075   \n              Osteoporosis                                             0.050   \n              Prostate__Conditions                                     0.079   \n              Prostate__Specific__Antigen__Follow-up                   0.301   \n              Smoking__-__Cigarette_or_Tobacco__Use__-__Adult          0.051   \n              Taste__&__Smell                                          0.076   \n              Volatile__Toxicant__(Subsample)                          0.116   \n\ntarget                                                                   \\\nalgorithm                                                                 \nfold                                                                      \nmetric                                                           r2_std   \nmain_category category                                                    \nexamination   Body__Measures                                      0.000   \nlaboratory    Autoantibodies__-__Immunofluorescence__&__Immun...  0.002   \n              Cholesterol__-__Total                               0.001   \n              Fatty__Acids__-__Serum                              0.006   \n              Flame__Retardant__Metabolites__-__Urine__(Surplus)  0.003   \n              Hepatitis__E__:__IgG__&__IgM__Antibodies            0.001   \n              Human__Papillomavirus__(HPV)__-__6,__11,__16__&...  0.001   \n              Lead__-__Dust                                       0.001   \n              Non-dioxin-like__Polychlorinated__Biphenyls         0.004   \n              Personal__Care__and__Consumer__Product__Chemica...  0.001   \n              Pesticides__-__Current__Use__-__Urine__(Formerl...  0.002   \nquestionnaire Creatine__Kinase                                    0.002   \n              Early__Childhood                                    0.000   \n              Hepatitis                                           0.001   \n              Mental__Health__-__Panic__Disorder                  0.008   \n              Osteoporosis                                        0.001   \n              Prostate__Conditions                                0.002   \n              Prostate__Specific__Antigen__Follow-up              0.027   \n              Smoking__-__Cigarette_or_Tobacco__Use__-__Adult     0.002   \n              Taste__&__Smell                                     0.002   \n              Volatile__Toxicant__(Subsample)                     0.004   \n\ntarget                                                                   \\\nalgorithm                                                                 \nfold                                                               test   \nmetric                                                               r2   \nmain_category category                                                    \nexamination   Body__Measures                                      0.446   \nlaboratory    Autoantibodies__-__Immunofluorescence__&__Immun...  0.054   \n              Cholesterol__-__Total                               0.134   \n              Fatty__Acids__-__Serum                              0.524   \n              Flame__Retardant__Metabolites__-__Urine__(Surplus)  0.110   \n              Hepatitis__E__:__IgG__&__IgM__Antibodies            0.083   \n              Human__Papillomavirus__(HPV)__-__6,__11,__16__&...  0.031   \n              Lead__-__Dust                                       0.001   \n              Non-dioxin-like__Polychlorinated__Biphenyls         0.642   \n              Personal__Care__and__Consumer__Product__Chemica...  0.028   \n              Pesticides__-__Current__Use__-__Urine__(Formerl...  0.071   \nquestionnaire Creatine__Kinase                                    0.075   \n              Early__Childhood                                    0.008   \n              Hepatitis                                           0.022   \n              Mental__Health__-__Panic__Disorder                 -0.057   \n              Osteoporosis                                        0.050   \n              Prostate__Conditions                                0.080   \n              Prostate__Specific__Antigen__Follow-up             -0.054   \n              Smoking__-__Cigarette_or_Tobacco__Use__-__Adult     0.050   \n              Taste__&__Smell                                     0.071   \n              Volatile__Toxicant__(Subsample)                     0.108   \n\ntarget                                                                   \\\nalgorithm                                                                 \nfold                                                                      \nmetric                                                           r2_std   \nmain_category category                                                    \nexamination   Body__Measures                                      0.005   \nlaboratory    Autoantibodies__-__Immunofluorescence__&__Immun...  0.016   \n              Cholesterol__-__Total                               0.005   \n              Fatty__Acids__-__Serum                              0.054   \n              Flame__Retardant__Metabolites__-__Urine__(Surplus)  0.032   \n              Hepatitis__E__:__IgG__&__IgM__Antibodies            0.008   \n              Human__Papillomavirus__(HPV)__-__6,__11,__16__&...  0.012   \n              Lead__-__Dust                                       0.007   \n              Non-dioxin-like__Polychlorinated__Biphenyls         0.040   \n              Personal__Care__and__Consumer__Product__Chemica...  0.013   \n              Pesticides__-__Current__Use__-__Urine__(Formerl...  0.023   \nquestionnaire Creatine__Kinase                                    0.015   \n              Early__Childhood                                    0.004   \n              Hepatitis                                           0.008   \n              Mental__Health__-__Panic__Disorder                  0.128   \n              Osteoporosis                                        0.005   \n              Prostate__Conditions                                0.024   \n              Prostate__Specific__Antigen__Follow-up              0.779   \n              Smoking__-__Cigarette_or_Tobacco__Use__-__Adult     0.017   \n              Taste__&__Smell                                     0.016   \n              Volatile__Toxicant__(Subsample)                     0.028   \n\ntarget                                                                     \\\nalgorithm                                                                   \nfold                                                                train   \nmetric                                                               rmse   \nmain_category category                                                      \nexamination   Body__Measures                                      211.502   \nlaboratory    Autoantibodies__-__Immunofluorescence__&__Immun...  237.176   \n              Cholesterol__-__Total                               254.570   \n              Fatty__Acids__-__Serum                              204.494   \n              Flame__Retardant__Metabolites__-__Urine__(Surplus)  255.425   \n              Hepatitis__E__:__IgG__&__IgM__Antibodies            261.004   \n              Human__Papillomavirus__(HPV)__-__6,__11,__16__&...  147.470   \n              Lead__-__Dust                                        17.145   \n              Non-dioxin-like__Polychlorinated__Biphenyls         161.535   \n              Personal__Care__and__Consumer__Product__Chemica...  273.030   \n              Pesticides__-__Current__Use__-__Urine__(Formerl...  266.603   \nquestionnaire Creatine__Kinase                                    242.775   \n              Early__Childhood                                     58.191   \n              Hepatitis                                           274.329   \n              Mental__Health__-__Panic__Disorder                   69.514   \n              Osteoporosis                                        204.796   \n              Prostate__Conditions                                148.406   \n              Prostate__Specific__Antigen__Follow-up               90.672   \n              Smoking__-__Cigarette_or_Tobacco__Use__-__Adult     227.724   \n              Taste__&__Smell                                     141.844   \n              Volatile__Toxicant__(Subsample)                     238.046   \n\ntarget                                                                     \\\nalgorithm                                                                   \nfold                                                                        \nmetric                                                           rmse_std   \nmain_category category                                                      \nexamination   Body__Measures                                        0.077   \nlaboratory    Autoantibodies__-__Immunofluorescence__&__Immun...    0.661   \n              Cholesterol__-__Total                                 0.187   \n              Fatty__Acids__-__Serum                                1.271   \n              Flame__Retardant__Metabolites__-__Urine__(Surplus)    0.714   \n              Hepatitis__E__:__IgG__&__IgM__Antibodies              0.165   \n              Human__Papillomavirus__(HPV)__-__6,__11,__16__&...    0.279   \n              Lead__-__Dust                                         0.049   \n              Non-dioxin-like__Polychlorinated__Biphenyls           1.049   \n              Personal__Care__and__Consumer__Product__Chemica...    0.578   \n              Pesticides__-__Current__Use__-__Urine__(Formerl...    1.000   \nquestionnaire Creatine__Kinase                                      0.282   \n              Early__Childhood                                      0.040   \n              Hepatitis                                             0.124   \n              Mental__Health__-__Panic__Disorder                    0.265   \n              Osteoporosis                                          0.192   \n              Prostate__Conditions                                  0.431   \n              Prostate__Specific__Antigen__Follow-up                3.027   \n              Smoking__-__Cigarette_or_Tobacco__Use__-__Adult       0.342   \n              Taste__&__Smell                                       0.205   \n              Volatile__Toxicant__(Subsample)                       0.693   \n\ntarget                                                                     \\\nalgorithm                                                                   \nfold                                                                 test   \nmetric                                                               rmse   \nmain_category category                                                      \nexamination   Body__Measures                                      211.524   \nlaboratory    Autoantibodies__-__Immunofluorescence__&__Immun...  237.919   \n              Cholesterol__-__Total                               254.619   \n              Fatty__Acids__-__Serum                              205.293   \n              Flame__Retardant__Metabolites__-__Urine__(Surplus)  255.251   \n              Hepatitis__E__:__IgG__&__IgM__Antibodies            261.057   \n              Human__Papillomavirus__(HPV)__-__6,__11,__16__&...  147.602   \n              Lead__-__Dust                                        17.253   \n              Non-dioxin-like__Polychlorinated__Biphenyls         162.457   \n              Personal__Care__and__Consumer__Product__Chemica...  273.363   \n              Pesticides__-__Current__Use__-__Urine__(Formerl...  267.179   \nquestionnaire Creatine__Kinase                                    242.884   \n              Early__Childhood                                     58.199   \n              Hepatitis                                           274.397   \n              Mental__Health__-__Panic__Disorder                   77.324   \n              Osteoporosis                                        204.815   \n              Prostate__Conditions                                148.343   \n              Prostate__Specific__Antigen__Follow-up              118.565   \n              Smoking__-__Cigarette_or_Tobacco__Use__-__Adult     227.790   \n              Taste__&__Smell                                     142.083   \n              Volatile__Toxicant__(Subsample)                     238.684   \n\ntarget                                                                     \nalgorithm                                                                  \nfold                                                                       \nmetric                                                           rmse_std  \nmain_category category                                                     \nexamination   Body__Measures                                        0.871  \nlaboratory    Autoantibodies__-__Immunofluorescence__&__Immun...    5.972  \n              Cholesterol__-__Total                                 1.852  \n              Fatty__Acids__-__Serum                               12.164  \n              Flame__Retardant__Metabolites__-__Urine__(Surplus)    5.776  \n              Hepatitis__E__:__IgG__&__IgM__Antibodies              1.332  \n              Human__Papillomavirus__(HPV)__-__6,__11,__16__&...    2.529  \n              Lead__-__Dust                                         0.436  \n              Non-dioxin-like__Polychlorinated__Biphenyls           9.485  \n              Personal__Care__and__Consumer__Product__Chemica...    5.418  \n              Pesticides__-__Current__Use__-__Urine__(Formerl...    8.552  \nquestionnaire Creatine__Kinase                                      2.906  \n              Early__Childhood                                      0.344  \n              Hepatitis                                             0.947  \n              Mental__Health__-__Panic__Disorder                    2.285  \n              Osteoporosis                                          1.779  \n              Prostate__Conditions                                  4.221  \n              Prostate__Specific__Antigen__Follow-up               34.996  \n              Smoking__-__Cigarette_or_Tobacco__Use__-__Adult       2.944  \n              Taste__&__Smell                                       1.711  \n              Volatile__Toxicant__(Subsample)                       5.603  "
     },
     "execution_count": 21,
     "metadata": {},
     "output_type": "execute_result"
    }
   ],
   "source": [
    "scores\n",
    "hovertemplate = (\n",
    "    \"%{x}, score: %{y:.3f} +- %{customdata[0]:.3f}, sample size: %{customdata[1]} <extra>%{customdata[2]}</extra>\"\n",
    ")\n",
    "\n",
    "    \n",
    "    min_score = min(sorted_scores.min().min(), 0)"
   ]
  }
 ],
 "metadata": {
  "kernelspec": {
   "display_name": "Python 3.9.5  ('env_container': venv)",
   "name": "pythonjvsc74a57bd0caa493d487e2605cd0af6cc0b1916140f10101127081a256fc5f2653027ec162"
  },
  "language_info": {
   "codemirror_mode": {
    "name": "ipython",
    "version": 3
   },
   "file_extension": ".py",
   "mimetype": "text/x-python",
   "name": "python",
   "nbconvert_exporter": "python",
   "pygments_lexer": "ipython3",
   "version": "3.9.5"
  },
  "metadata": {
   "interpreter": {
    "hash": "caa493d487e2605cd0af6cc0b1916140f10101127081a256fc5f2653027ec162"
   }
  },
  "orig_nbformat": 2
 },
 "nbformat": 4,
 "nbformat_minor": 2
}